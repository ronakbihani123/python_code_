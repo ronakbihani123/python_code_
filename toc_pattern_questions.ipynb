{
  "nbformat": 4,
  "nbformat_minor": 0,
  "metadata": {
    "colab": {
      "provenance": [],
      "authorship_tag": "ABX9TyNqd0yFu87wnWESYUu04yDM",
      "include_colab_link": true
    },
    "kernelspec": {
      "name": "python3",
      "display_name": "Python 3"
    },
    "language_info": {
      "name": "python"
    }
  },
  "cells": [
    {
      "cell_type": "markdown",
      "metadata": {
        "id": "view-in-github",
        "colab_type": "text"
      },
      "source": [
        "<a href=\"https://colab.research.google.com/github/ronakbihani123/python_code_/blob/main/toc_pattern_questions.ipynb\" target=\"_parent\"><img src=\"https://colab.research.google.com/assets/colab-badge.svg\" alt=\"Open In Colab\"/></a>"
      ]
    },
    {
      "cell_type": "code",
      "execution_count": null,
      "metadata": {
        "colab": {
          "base_uri": "https://localhost:8080/"
        },
        "id": "KBbdWgtH9rQd",
        "outputId": "47634db4-cf56-4d06-9b77-ccac5d96200b"
      },
      "outputs": [
        {
          "output_type": "stream",
          "name": "stdout",
          "text": [
            "**** \n",
            " **** \n",
            "  **** \n",
            "   **** \n"
          ]
        }
      ],
      "source": [
        "#q1\n",
        "for i in range(1,5):\n",
        "\n",
        "  for j in range(1,i):\n",
        "    print(\" \",end=\"\")\n",
        "\n",
        "  for k in range(1,5):\n",
        "    print(\"*\",end=\"\")\n",
        "  print(\" \")"
      ]
    },
    {
      "cell_type": "code",
      "source": [
        "#q2\n",
        "for i in range(1,8):\n",
        "\n",
        "  for j in range(1,7):\n",
        "    if( i%2!=0):\n",
        "      if(i==1 or i==7  or j==1 or j==6):\n",
        "        print(\"*\",end=\"\")\n",
        "      else:\n",
        "        print(\" \",end=\"\")\n",
        "  print(\" \")\n",
        "\n"
      ],
      "metadata": {
        "colab": {
          "base_uri": "https://localhost:8080/"
        },
        "id": "YhYqjlDQ-owE",
        "outputId": "9257453c-dd70-4ba5-9e1a-234c091e39df"
      },
      "execution_count": null,
      "outputs": [
        {
          "output_type": "stream",
          "name": "stdout",
          "text": [
            "****** \n",
            " \n",
            "*    * \n",
            " \n",
            "*    * \n",
            " \n",
            "****** \n"
          ]
        }
      ]
    },
    {
      "cell_type": "code",
      "source": [
        "#q3\n",
        "for i in range(1,6):\n",
        "  x = 65\n",
        "  for j in range(1,i+1):\n",
        "\n",
        "    print(chr(x),end=\"\")\n",
        "    x+=1\n",
        "  print(\" \")"
      ],
      "metadata": {
        "colab": {
          "base_uri": "https://localhost:8080/"
        },
        "id": "ylKIUJWgCY7y",
        "outputId": "78e9affa-c7e0-4c88-827b-046bb64312ea"
      },
      "execution_count": null,
      "outputs": [
        {
          "output_type": "stream",
          "name": "stdout",
          "text": [
            "A \n",
            "AB \n",
            "ABC \n",
            "ABCD \n",
            "ABCDE \n"
          ]
        }
      ]
    },
    {
      "cell_type": "code",
      "source": [
        "#q4\n",
        "x  = 65\n",
        "for i in range(65,70):\n",
        "\n",
        "\n",
        "  for j in range(65,i+1):\n",
        "\n",
        "   print(chr(i) ,end=\" \")\n",
        "   x +=1\n",
        "  print(\" \")\n"
      ],
      "metadata": {
        "colab": {
          "base_uri": "https://localhost:8080/"
        },
        "id": "yTM1QOQaDYKj",
        "outputId": "b037f6b2-15a7-457b-9189-dd2e2c26e56d"
      },
      "execution_count": null,
      "outputs": [
        {
          "output_type": "stream",
          "name": "stdout",
          "text": [
            "A  \n",
            "B B  \n",
            "C C C  \n",
            "D D D D  \n",
            "E E E E E  \n"
          ]
        }
      ]
    },
    {
      "cell_type": "code",
      "source": [
        "#q5\n",
        "for i in range(1,6):\n",
        "\n",
        "  for j in range(i,0,-1):\n",
        "\n",
        "      print(chr(69-j+1),end=\"\")\n",
        "\n",
        "\n",
        "\n",
        "  print( )\n"
      ],
      "metadata": {
        "colab": {
          "base_uri": "https://localhost:8080/"
        },
        "id": "73rf4r2eIKk0",
        "outputId": "641591a2-7d99-425c-b08d-de68cbea6dd7"
      },
      "execution_count": 15,
      "outputs": [
        {
          "output_type": "stream",
          "name": "stdout",
          "text": [
            "E\n",
            "DE\n",
            "CDE\n",
            "BCDE\n",
            "ABCDE\n"
          ]
        }
      ]
    },
    {
      "cell_type": "code",
      "source": [
        "#q6\n",
        "for i in range(1,6):\n",
        "  for k in range(1,5-i+1):\n",
        "    print(\" \",end=\" \")\n",
        "\n",
        "  for j in range(1,i+1):\n",
        "\n",
        "    print(\"*\",end=\" \")\n",
        "  print()"
      ],
      "metadata": {
        "colab": {
          "base_uri": "https://localhost:8080/"
        },
        "id": "2TnfmhD9RDID",
        "outputId": "95849483-f8e6-4019-826e-dfc569e1568d"
      },
      "execution_count": null,
      "outputs": [
        {
          "output_type": "stream",
          "name": "stdout",
          "text": [
            "        * \n",
            "      * * \n",
            "    * * * \n",
            "  * * * * \n",
            "* * * * * \n"
          ]
        }
      ]
    },
    {
      "cell_type": "code",
      "source": [
        "#q6\n",
        "for i in range(1,6):\n",
        "  for j in range(1,5-i+1):\n",
        "    print(\" \",end=\" \")\n",
        "\n",
        "  for k in range(1,i+1):\n",
        "\n",
        "    print(k,end=\" \")\n",
        "  print()"
      ],
      "metadata": {
        "colab": {
          "base_uri": "https://localhost:8080/"
        },
        "id": "r0h_APO9S5Mf",
        "outputId": "1910c9ec-d322-42f1-9973-83683812aad4"
      },
      "execution_count": null,
      "outputs": [
        {
          "output_type": "stream",
          "name": "stdout",
          "text": [
            "        1 \n",
            "      1 2 \n",
            "    1 2 3 \n",
            "  1 2 3 4 \n",
            "1 2 3 4 5 \n"
          ]
        }
      ]
    },
    {
      "cell_type": "code",
      "source": [
        "#q7\n",
        "for i in range(1,6):\n",
        " for j in range(1,i):\n",
        "    print(\" \",end=\" \")\n",
        " for j in range(1,6-i+1):\n",
        "    print(j ,end=\" \")\n",
        "\n",
        " print()"
      ],
      "metadata": {
        "colab": {
          "base_uri": "https://localhost:8080/"
        },
        "id": "ouYWpAVDTcuN",
        "outputId": "72861c51-1ea1-4a67-bdf7-9f1db35ff008"
      },
      "execution_count": 20,
      "outputs": [
        {
          "output_type": "stream",
          "name": "stdout",
          "text": [
            "1 2 3 4 5 \n",
            "  1 2 3 4 \n",
            "    1 2 3 \n",
            "      1 2 \n",
            "        1 \n"
          ]
        }
      ]
    },
    {
      "cell_type": "code",
      "source": [
        "#q8\n",
        "for i in range(1,6):\n",
        " x = 65\n",
        " for j in range(1,i):\n",
        "    print(\" \",end=\" \")\n",
        " for j in range(1,6-i+1):\n",
        "    print(chr(x),end=\" \")\n",
        "    x+=1\n",
        "\n",
        " print()"
      ],
      "metadata": {
        "colab": {
          "base_uri": "https://localhost:8080/"
        },
        "id": "q6nXAhrPqhqP",
        "outputId": "1db2cf42-cbc8-49b9-da34-ce370b0e8294"
      },
      "execution_count": 23,
      "outputs": [
        {
          "output_type": "stream",
          "name": "stdout",
          "text": [
            "A B C D E \n",
            "  A B C D \n",
            "    A B C \n",
            "      A B \n",
            "        A \n"
          ]
        }
      ]
    },
    {
      "cell_type": "code",
      "source": [
        "#q9\n",
        "for i in range(1,6):\n",
        "\n",
        "  for k in range(1,5-i+1):\n",
        "    print(\" \",end=\"\")\n",
        "\n",
        "  for j in range(1,6):\n",
        "    print(\"*\",end=\" \")\n",
        "  print()"
      ],
      "metadata": {
        "colab": {
          "base_uri": "https://localhost:8080/"
        },
        "id": "3xSzOU23q4zb",
        "outputId": "0545f6cd-850f-4658-c840-8d327839af3a"
      },
      "execution_count": 26,
      "outputs": [
        {
          "output_type": "stream",
          "name": "stdout",
          "text": [
            "    * * * * * \n",
            "   * * * * * \n",
            "  * * * * * \n",
            " * * * * * \n",
            "* * * * * \n"
          ]
        }
      ]
    },
    {
      "cell_type": "code",
      "source": [
        "#q10\n",
        "for i in range(1,6):\n",
        "\n",
        "  for k in range(1,5-i+1):\n",
        "    print(\" \",end=\"\")\n",
        "\n",
        "  for j in range(1,6):\n",
        "    print(j,end=\" \")\n",
        "  print()"
      ],
      "metadata": {
        "colab": {
          "base_uri": "https://localhost:8080/"
        },
        "id": "E5zoMPu1riM0",
        "outputId": "67afb9f7-9bda-458a-b06e-3eedd0586e97"
      },
      "execution_count": 28,
      "outputs": [
        {
          "output_type": "stream",
          "name": "stdout",
          "text": [
            "    1 2 3 4 5 \n",
            "   1 2 3 4 5 \n",
            "  1 2 3 4 5 \n",
            " 1 2 3 4 5 \n",
            "1 2 3 4 5 \n"
          ]
        }
      ]
    },
    {
      "cell_type": "code",
      "source": [
        "#q11\n",
        "for i in range(1,6):\n",
        "  x = 65\n",
        "  for k in range(1,5-i+1):\n",
        "    print(\" \",end=\"\")\n",
        "\n",
        "  for j in range(1,6):\n",
        "\n",
        "    print(chr(x),end=\" \")\n",
        "    x+=1\n",
        "  print()"
      ],
      "metadata": {
        "colab": {
          "base_uri": "https://localhost:8080/"
        },
        "id": "SRkuuxtarxat",
        "outputId": "d0fe2cd2-00f3-4f4f-9bdb-8bc4eade725a"
      },
      "execution_count": 30,
      "outputs": [
        {
          "output_type": "stream",
          "name": "stdout",
          "text": [
            "    A B C D E \n",
            "   A B C D E \n",
            "  A B C D E \n",
            " A B C D E \n",
            "A B C D E \n"
          ]
        }
      ]
    },
    {
      "cell_type": "code",
      "source": [
        "#q12\n",
        "for i in range(1,5):\n",
        "\n",
        "  for k in range(1,5-i+1):\n",
        "    print(\" \",end=\"\")\n",
        "\n",
        "\n",
        "  for j in range(0,2*i-1):\n",
        "\n",
        "\n",
        "     print(\"*\",end=\"\")\n",
        "\n",
        "\n",
        "  print(\" \")"
      ],
      "metadata": {
        "colab": {
          "base_uri": "https://localhost:8080/"
        },
        "id": "P9P4xxVAsCJX",
        "outputId": "e9b05243-b9fd-47f6-f252-18b866fbcf5d"
      },
      "execution_count": 49,
      "outputs": [
        {
          "output_type": "stream",
          "name": "stdout",
          "text": [
            "    * \n",
            "   *** \n",
            "  ***** \n",
            " ******* \n"
          ]
        }
      ]
    },
    {
      "cell_type": "code",
      "source": [
        "#q13\n",
        "for i in range(1,5):\n",
        "\n",
        "  for k in range(1,5-i+1):\n",
        "    print(\" \",end=\"\")\n",
        "\n",
        "\n",
        "  for j in range(0,2*i-1):\n",
        "    if(i==4 or i==1 or j==0 or j==i*2-2):\n",
        "\n",
        "     print(\"*\",end=\"\")\n",
        "    else:\n",
        "      print(\" \",end=\"\")\n",
        "\n",
        "\n",
        "  print(\" \")"
      ],
      "metadata": {
        "colab": {
          "base_uri": "https://localhost:8080/"
        },
        "id": "Xp8t8O1Zu_85",
        "outputId": "a26f993c-3d4d-405c-902b-849132f7ae73"
      },
      "execution_count": 89,
      "outputs": [
        {
          "output_type": "stream",
          "name": "stdout",
          "text": [
            "    * \n",
            "   * * \n",
            "  *   * \n",
            " ******* \n"
          ]
        }
      ]
    },
    {
      "cell_type": "code",
      "source": [
        "#q14\n",
        "for i in range(1,5):\n",
        "\n",
        "  for j in range(1,i):\n",
        "    print(\" \",end=\"\")\n",
        "\n",
        "  for k in range(1,9-i*2+1):\n",
        "    print(\"*\",end=\"\")\n",
        "  print()\n"
      ],
      "metadata": {
        "colab": {
          "base_uri": "https://localhost:8080/"
        },
        "id": "y-I8_GKq0-qF",
        "outputId": "ec726b08-7c3e-436c-e635-460bfc7f4b2a"
      },
      "execution_count": 93,
      "outputs": [
        {
          "output_type": "stream",
          "name": "stdout",
          "text": [
            "*******\n",
            " *****\n",
            "  ***\n",
            "   *\n"
          ]
        }
      ]
    },
    {
      "cell_type": "code",
      "source": [
        "#q15\n",
        "for i in range(1,5):\n",
        "\n",
        "  for j in range(1,i+1):\n",
        "    print(\"*\",end=\"\")\n",
        "  print()\n",
        "for i in range(1,4):\n",
        "\n",
        "  for j in range(1,4-i+1):\n",
        "    print(\"*\",end=\"\")\n",
        "  print()"
      ],
      "metadata": {
        "colab": {
          "base_uri": "https://localhost:8080/"
        },
        "id": "0xsloZ3F4p-L",
        "outputId": "22705e17-b321-4ba5-9993-42f75ff62292"
      },
      "execution_count": 96,
      "outputs": [
        {
          "output_type": "stream",
          "name": "stdout",
          "text": [
            "*\n",
            "**\n",
            "***\n",
            "****\n",
            "***\n",
            "**\n",
            "*\n"
          ]
        }
      ]
    },
    {
      "cell_type": "code",
      "source": [
        "#q16\n",
        "for i in range(1,5):\n",
        "  for k in range(1,4-i+1):\n",
        "    print(\" \",end=\"\")\n",
        "\n",
        "  for j in range(1,i+1):\n",
        "    print(\"*\",end=\"\")\n",
        "  print()\n",
        "for i in range(1,4):\n",
        "  for k in range(1,i+1):\n",
        "    print(\" \",end=\"\")\n",
        "\n",
        "  for j in range(1,4-i+1):\n",
        "    print(\"*\",end=\"\")\n",
        "  print()"
      ],
      "metadata": {
        "colab": {
          "base_uri": "https://localhost:8080/"
        },
        "id": "0YwdLjaA5UpE",
        "outputId": "84ca494a-9e14-45d5-f013-bf69a2b3b1dc"
      },
      "execution_count": 99,
      "outputs": [
        {
          "output_type": "stream",
          "name": "stdout",
          "text": [
            "   *\n",
            "  **\n",
            " ***\n",
            "****\n",
            " ***\n",
            "  **\n",
            "   *\n"
          ]
        }
      ]
    },
    {
      "cell_type": "code",
      "source": [
        "#q17\n",
        "for i in range(1,5):\n",
        "  for k in range(1,5-i+1):\n",
        "    print(\" \",end=\"\")\n",
        "\n",
        "  for j in range(0,i*2-1):\n",
        "    print(\"*\",end=\"\")\n",
        "  print()\n",
        "for i in range(1,4):\n",
        "  for k in range(1,i+2):\n",
        "    print(\" \",end=\"\")\n",
        "\n",
        "  for j in range(0,6-i*2+1):\n",
        "    print(\"*\",end=\"\")\n",
        "  print()"
      ],
      "metadata": {
        "colab": {
          "base_uri": "https://localhost:8080/"
        },
        "id": "hcZbj7yy592q",
        "outputId": "ada90578-c3f4-4b91-9944-3a589e46e6d9"
      },
      "execution_count": 109,
      "outputs": [
        {
          "output_type": "stream",
          "name": "stdout",
          "text": [
            "    *\n",
            "   ***\n",
            "  *****\n",
            " *******\n",
            "  *****\n",
            "   ***\n",
            "    *\n"
          ]
        }
      ]
    },
    {
      "cell_type": "code",
      "source": [
        "#q17(a)\n",
        "for i in range(1,6):\n",
        "  x = 1\n",
        "  for j in range(1,i+1):\n",
        "    print(x,end=\" \")\n",
        "    x+=1\n",
        "  print()\n"
      ],
      "metadata": {
        "colab": {
          "base_uri": "https://localhost:8080/"
        },
        "id": "_cxStxhI8czv",
        "outputId": "495fdfaa-b424-4694-9709-d10ae881e1ec"
      },
      "execution_count": 112,
      "outputs": [
        {
          "output_type": "stream",
          "name": "stdout",
          "text": [
            "1 \n",
            "1 2 \n",
            "1 2 3 \n",
            "1 2 3 4 \n",
            "1 2 3 4 5 \n"
          ]
        }
      ]
    },
    {
      "cell_type": "code",
      "source": [
        "#q17(b)\n",
        "for i in range(1,6):\n",
        "  x = 1\n",
        "  for j in range(1,6-i+1):\n",
        "    print(x,end=\" \")\n",
        "    x+=1\n",
        "  print()"
      ],
      "metadata": {
        "colab": {
          "base_uri": "https://localhost:8080/"
        },
        "id": "e-y9jmaA9tBD",
        "outputId": "a5c5e1e5-de45-45ac-930c-204082c6d11d"
      },
      "execution_count": 113,
      "outputs": [
        {
          "output_type": "stream",
          "name": "stdout",
          "text": [
            "1 2 3 4 5 \n",
            "1 2 3 4 \n",
            "1 2 3 \n",
            "1 2 \n",
            "1 \n"
          ]
        }
      ]
    },
    {
      "cell_type": "code",
      "source": [
        "#q17(c)\n",
        "for i in range(1,6):\n",
        "  x = 1\n",
        "  for j in range(1,i+1):\n",
        "    if(i==5 or i==1 or j==1 or i==j):\n",
        "\n",
        "     print(x,end=\" \")\n",
        "\n",
        "    else:\n",
        "      print(\" \",end=\" \")\n",
        "    x +=1\n",
        "\n",
        "  print()"
      ],
      "metadata": {
        "colab": {
          "base_uri": "https://localhost:8080/"
        },
        "id": "FBwp0uCk-MAh",
        "outputId": "fcfae45b-3d39-4a04-f787-fcf6647bc817"
      },
      "execution_count": 129,
      "outputs": [
        {
          "output_type": "stream",
          "name": "stdout",
          "text": [
            "1 \n",
            "1 2 \n",
            "1   3 \n",
            "1     4 \n",
            "1 2 3 4 5 \n"
          ]
        }
      ]
    },
    {
      "cell_type": "code",
      "source": [
        "#q17(d)\n",
        "x = 1\n",
        "for i in range(1,6):\n",
        "\n",
        "  for k in range(1,5-i+1):\n",
        "    print(\" \",end=\"\")\n",
        "\n",
        "\n",
        "  for j in range(i,):\n",
        "\n",
        "\n",
        "     print(x,end=\"\")\n",
        "\n",
        "\n",
        "\n",
        "  print(\" \")\n",
        "  x+=1"
      ],
      "metadata": {
        "colab": {
          "base_uri": "https://localhost:8080/"
        },
        "id": "hxC6S68MAuDc",
        "outputId": "d2e93db6-9d3f-4ed1-fc74-947f4e908fde"
      },
      "execution_count": 139,
      "outputs": [
        {
          "output_type": "stream",
          "name": "stdout",
          "text": [
            "    1 \n",
            "   22 \n",
            "  333 \n",
            " 4444 \n",
            "55555 \n"
          ]
        }
      ]
    },
    {
      "cell_type": "code",
      "source": [
        "#q18\n",
        "for i in range(1,6):\n",
        "  for k in range(1,5-i+1):\n",
        "    print(\" \",end=\"\")\n",
        "\n",
        "  for j in range(0,i*2-1):\n",
        "    print(\"*\",end=\"\")\n",
        "  print()\n",
        "for i in range(1,6):\n",
        "  for k in range(1,i+1):\n",
        "    print(\" \",end=\"\")\n",
        "\n",
        "  for j in range(0,9-i*2):\n",
        "    print(\"*\",end=\"\")\n",
        "  print()"
      ],
      "metadata": {
        "colab": {
          "base_uri": "https://localhost:8080/"
        },
        "id": "zLKv4XRJCuhQ",
        "outputId": "7312434a-c6cf-4d26-c46b-70a6b1e3ce2b"
      },
      "execution_count": 149,
      "outputs": [
        {
          "output_type": "stream",
          "name": "stdout",
          "text": [
            "    *\n",
            "   ***\n",
            "  *****\n",
            " *******\n",
            "*********\n",
            " *******\n",
            "  *****\n",
            "   ***\n",
            "    *\n",
            "     \n"
          ]
        }
      ]
    },
    {
      "cell_type": "code",
      "source": [
        "for i in range(1,6):\n",
        "  x = 1\n",
        "  for k in range(1,5-i+1):\n",
        "    print(\" \",end=\" \")\n",
        "\n",
        "  for j in range(0,i*2-1):\n",
        "    print(x,end=\" \")\n",
        "    x+=1\n",
        "  print()\n",
        "for i in range(1,6):\n",
        "  x = 1\n",
        "  for k in range(1,i+1):\n",
        "    print(\" \",end=\" \")\n",
        "\n",
        "  for j in range(0,9-i*2):\n",
        "    print(x,end=\" \")\n",
        "    x+=1\n",
        "  print()"
      ],
      "metadata": {
        "colab": {
          "base_uri": "https://localhost:8080/"
        },
        "id": "GSQ0t15iENM9",
        "outputId": "c2b02f84-d3d0-4ece-ec0e-63abd4c340d7"
      },
      "execution_count": 155,
      "outputs": [
        {
          "output_type": "stream",
          "name": "stdout",
          "text": [
            "        1 \n",
            "      1 2 3 \n",
            "    1 2 3 4 5 \n",
            "  1 2 3 4 5 6 7 \n",
            "1 2 3 4 5 6 7 8 9 \n",
            "  1 2 3 4 5 6 7 \n",
            "    1 2 3 4 5 \n",
            "      1 2 3 \n",
            "        1 \n",
            "          \n"
          ]
        }
      ]
    },
    {
      "cell_type": "code",
      "source": [
        "for i in range(1,6):\n",
        "  x = 1\n",
        "  for k in range(1,i):\n",
        "    print(\" \",end=\" \")\n",
        "  for j in range(0,10-i*2+1):\n",
        "    print(x,end=\" \")\n",
        "    x+=1\n",
        "  print()\n",
        "for i in range(1,5):\n",
        "  for k in range(1,4-i+1):\n",
        "    print(\" \",end=\" \")\n",
        "  for j in range(1,i*2+2):\n",
        "    print(j,end=\" \")\n",
        "  print()\n"
      ],
      "metadata": {
        "colab": {
          "base_uri": "https://localhost:8080/"
        },
        "id": "BfwT7zHPFdW2",
        "outputId": "43119470-5825-4891-9bb6-000dabf5eb85"
      },
      "execution_count": 171,
      "outputs": [
        {
          "output_type": "stream",
          "name": "stdout",
          "text": [
            "1 2 3 4 5 6 7 8 9 \n",
            "  1 2 3 4 5 6 7 \n",
            "    1 2 3 4 5 \n",
            "      1 2 3 \n",
            "        1 \n",
            "      1 2 3 \n",
            "    1 2 3 4 5 \n",
            "  1 2 3 4 5 6 7 \n",
            "1 2 3 4 5 6 7 8 9 \n"
          ]
        }
      ]
    },
    {
      "cell_type": "code",
      "source": [
        "for i in range(1,6):\n",
        "\n",
        "  for j in range(1,6):\n",
        "    if(i==1 or i==5 or j==1 or j==5):\n",
        "     print(\"*\",end=\" \")\n",
        "    else:\n",
        "      print(\" \",end=\" \")\n",
        "  print()"
      ],
      "metadata": {
        "colab": {
          "base_uri": "https://localhost:8080/"
        },
        "id": "WEYng3DMIh9C",
        "outputId": "51b431f8-2f89-4176-cdb3-37a60218ba6e"
      },
      "execution_count": 175,
      "outputs": [
        {
          "output_type": "stream",
          "name": "stdout",
          "text": [
            "* * * * * \n",
            "*       * \n",
            "*       * \n",
            "*       * \n",
            "* * * * * \n"
          ]
        }
      ]
    },
    {
      "cell_type": "code",
      "source": [
        "for i in range(1,6):\n",
        "  for k in range(1,5-i+1):\n",
        "    print(\" \",end=\"\")\n",
        "\n",
        "  for j in range(0,i*2-1):\n",
        "    if(j==0 or j==i*2-2):\n",
        "      print(\"*\",end=\"\")\n",
        "    else:\n",
        "      print(\" \",end=\"\")\n",
        "\n",
        "  print()\n",
        "for i in range(1,6):\n",
        "  for k in range(1,i+1):\n",
        "    print(\" \",end=\"\")\n",
        "\n",
        "  for j in range(0,9-i*2):\n",
        "    if(j==0 or j==8-i*2):\n",
        "      print(\"*\",end=\"\")\n",
        "    else:\n",
        "      print(\" \",end=\"\")\n",
        "  print()\n",
        ""
      ],
      "metadata": {
        "colab": {
          "base_uri": "https://localhost:8080/"
        },
        "id": "cM00o6UMJTN8",
        "outputId": "48e99e24-4770-476e-c0af-5ddafb121546"
      },
      "execution_count": 181,
      "outputs": [
        {
          "output_type": "stream",
          "name": "stdout",
          "text": [
            "    *\n",
            "   * *\n",
            "  *   *\n",
            " *     *\n",
            "*       *\n",
            " *     *\n",
            "  *   *\n",
            "   * *\n",
            "    *\n",
            "     \n"
          ]
        }
      ]
    }
  ]
}
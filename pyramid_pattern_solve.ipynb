{
  "nbformat": 4,
  "nbformat_minor": 0,
  "metadata": {
    "colab": {
      "provenance": [],
      "authorship_tag": "ABX9TyPg8vO7NsoaUOJ4NQJGd3QM",
      "include_colab_link": true
    },
    "kernelspec": {
      "name": "python3",
      "display_name": "Python 3"
    },
    "language_info": {
      "name": "python"
    }
  },
  "cells": [
    {
      "cell_type": "markdown",
      "metadata": {
        "id": "view-in-github",
        "colab_type": "text"
      },
      "source": [
        "<a href=\"https://colab.research.google.com/github/ronakbihani123/python_code_/blob/main/pyramid_pattern_solve.ipynb\" target=\"_parent\"><img src=\"https://colab.research.google.com/assets/colab-badge.svg\" alt=\"Open In Colab\"/></a>"
      ]
    },
    {
      "cell_type": "code",
      "execution_count": null,
      "metadata": {
        "colab": {
          "base_uri": "https://localhost:8080/"
        },
        "id": "W_kVFL51NYY9",
        "outputId": "e830e57e-9b2c-4a17-9cc9-68752a72ff5a"
      },
      "outputs": [
        {
          "output_type": "stream",
          "name": "stdout",
          "text": [
            "* * * *  \n",
            "- * * *  \n",
            "- - * *  \n",
            "- - - *  \n"
          ]
        }
      ],
      "source": [
        "for i in range(1,5):\n",
        "\n",
        "  for j in range(1,i):\n",
        "    print(\"-\",end= \" \")\n",
        "  for k in range(1,5-i+1):\n",
        "    print(\"*\",end=\" \")\n",
        "  print(\" \")"
      ]
    },
    {
      "cell_type": "code",
      "source": [
        "for i in range(1,6):\n",
        "\n",
        "  for j in range(1,i):\n",
        "    print(\" \",end=\"\")\n",
        "\n",
        "  for k in range(1,6-i+1):\n",
        "    print(\"*\",end=\" \")\n",
        "  print(\" \")"
      ],
      "metadata": {
        "colab": {
          "base_uri": "https://localhost:8080/"
        },
        "id": "QdERkQVoRVm-",
        "outputId": "cd446254-7b14-439c-86d7-6d63c223aaff"
      },
      "execution_count": 9,
      "outputs": [
        {
          "output_type": "stream",
          "name": "stdout",
          "text": [
            "* * * * *  \n",
            " * * * *  \n",
            "  * * *  \n",
            "   * *  \n",
            "    *  \n"
          ]
        }
      ]
    },
    {
      "cell_type": "code",
      "source": [
        "for i in range(1,5):\n",
        "\n",
        "  for j in range(1,5-i+1):\n",
        "    print(\"*\",end=\" \")\n",
        "  print(\" \")\n",
        "for m in range(1,4):\n",
        "\n",
        "  for k in range(1,m+2):\n",
        "\n",
        "    print(\"*\",end=\" \")\n",
        "\n",
        "  print(\"\")\n",
        "\n",
        "\n"
      ],
      "metadata": {
        "colab": {
          "base_uri": "https://localhost:8080/"
        },
        "id": "COn8ea0ITgR2",
        "outputId": "684d8d40-c5d0-4656-f6af-585fcd80fcf6"
      },
      "execution_count": 52,
      "outputs": [
        {
          "output_type": "stream",
          "name": "stdout",
          "text": [
            "* * * *  \n",
            "* * *  \n",
            "* *  \n",
            "*  \n",
            "* * \n",
            "* * * \n",
            "* * * * \n"
          ]
        }
      ]
    },
    {
      "cell_type": "code",
      "source": [
        "for i in range(1,6):\n",
        "\n",
        "  for j in range(1,i):\n",
        "    print(\" \",end=\" \")\n",
        "\n",
        "  for k in range(1,6-i+1):\n",
        "    print(\"*\",end=\" \")\n",
        "  print(\" \")\n",
        "for i in range(1,5):\n",
        "\n",
        "  for j in range(1,5-i):\n",
        "     print(\" \",end=\" \")\n",
        "  for k in range(1,i+2):\n",
        "     print(\"*\",end=\" \")\n",
        "  print(\" \")"
      ],
      "metadata": {
        "colab": {
          "base_uri": "https://localhost:8080/"
        },
        "id": "_cMDEiUmWE06",
        "outputId": "a963afb0-4c6d-4134-d950-f313c1e5e339"
      },
      "execution_count": 56,
      "outputs": [
        {
          "output_type": "stream",
          "name": "stdout",
          "text": [
            "* * * * *  \n",
            "  * * * *  \n",
            "    * * *  \n",
            "      * *  \n",
            "        *  \n",
            "      * *  \n",
            "    * * *  \n",
            "  * * * *  \n",
            "* * * * *  \n"
          ]
        }
      ]
    },
    {
      "cell_type": "code",
      "source": [
        "for i in range(1,5):\n",
        "\n",
        "  for j in range(1,5-i):\n",
        "    print(\"-\",end=\" \")\n",
        "  for k in range(1,i+2):\n",
        "    print(\"*\",end=\" \")\n",
        "  print(\" \")"
      ],
      "metadata": {
        "colab": {
          "base_uri": "https://localhost:8080/"
        },
        "id": "N-0LVVpfWgNY",
        "outputId": "d2d40a5e-9ecf-44bd-d261-06e70974e933"
      },
      "execution_count": null,
      "outputs": [
        {
          "output_type": "stream",
          "name": "stdout",
          "text": [
            "- - - * *  \n",
            "- - * * *  \n",
            "- * * * *  \n",
            "* * * * *  \n"
          ]
        }
      ]
    }
  ]
}
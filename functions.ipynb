{
  "nbformat": 4,
  "nbformat_minor": 0,
  "metadata": {
    "colab": {
      "provenance": [],
      "authorship_tag": "ABX9TyM3X64PzLrnN4IIt8hm3XrW",
      "include_colab_link": true
    },
    "kernelspec": {
      "name": "python3",
      "display_name": "Python 3"
    },
    "language_info": {
      "name": "python"
    }
  },
  "cells": [
    {
      "cell_type": "markdown",
      "metadata": {
        "id": "view-in-github",
        "colab_type": "text"
      },
      "source": [
        "<a href=\"https://colab.research.google.com/github/ronakbihani123/python_code_/blob/main/functions.ipynb\" target=\"_parent\"><img src=\"https://colab.research.google.com/assets/colab-badge.svg\" alt=\"Open In Colab\"/></a>"
      ]
    },
    {
      "cell_type": "code",
      "execution_count": null,
      "metadata": {
        "id": "97_zehMARHFG"
      },
      "outputs": [],
      "source": [
        "# #function\n",
        "# block of code =>repeatative usage\n",
        "# code readable , code reusability\n",
        "# user defined ,inbuild functions\n",
        "# user defined"
      ]
    },
    {
      "cell_type": "code",
      "source": [
        "def greeting(z): #parameter  /  formal parameter /informal arguement\n",
        "    print(\"hey welcome \",z,)\n",
        "\n",
        "greeting(\"harsh\")    #argument\n",
        "greeting(\"ram\")"
      ],
      "metadata": {
        "colab": {
          "base_uri": "https://localhost:8080/"
        },
        "id": "LFZ4gYrwR-mk",
        "outputId": "b073d2f7-ac47-4640-f7c1-851885b46ab0"
      },
      "execution_count": null,
      "outputs": [
        {
          "output_type": "stream",
          "name": "stdout",
          "text": [
            "hey welcome  harsh\n",
            "hey welcome  ram\n"
          ]
        }
      ]
    },
    {
      "cell_type": "code",
      "source": [
        "greeting(\"yatik\")"
      ],
      "metadata": {
        "colab": {
          "base_uri": "https://localhost:8080/"
        },
        "id": "bcyO9I5HSKF2",
        "outputId": "bbb2fcc1-68b2-4cfe-caba-eb34e3407f54"
      },
      "execution_count": null,
      "outputs": [
        {
          "output_type": "stream",
          "name": "stdout",
          "text": [
            "hey welcome  yatik\n"
          ]
        }
      ]
    },
    {
      "cell_type": "code",
      "source": [
        "def factors(num):\n",
        "\n",
        "  for i in range(1,num+1):\n",
        "    if(num%i==0):\n",
        "      print(\"factors of \",num , \"is\",i)\n",
        "\n"
      ],
      "metadata": {
        "id": "7UNU_op4UCcG"
      },
      "execution_count": null,
      "outputs": []
    },
    {
      "cell_type": "code",
      "source": [
        "factors(8)"
      ],
      "metadata": {
        "colab": {
          "base_uri": "https://localhost:8080/"
        },
        "id": "LYf7zeccUuZH",
        "outputId": "572bb927-74dd-4906-f212-36064a0d78ee"
      },
      "execution_count": null,
      "outputs": [
        {
          "output_type": "stream",
          "name": "stdout",
          "text": [
            "factors of  8 is 1\n",
            "factors of  8 is 2\n",
            "factors of  8 is 4\n",
            "factors of  8 is 8\n"
          ]
        }
      ]
    },
    {
      "cell_type": "code",
      "source": [
        "def armstrong(n):\n",
        "\n",
        "  count = 0\n",
        "\n",
        "  temp = n\n",
        "  while(temp>0):\n",
        "    count+=1\n",
        "    temp = temp // 10\n",
        "  temp = n\n",
        "  sum = 0\n",
        "  while(temp > 0):\n",
        "    sum +=(temp%10)**count\n",
        "    temp = temp // 10\n",
        "  if (n == sum):\n",
        "    print(\"armstrong\")\n",
        "  else:\n",
        "    print(\"not armstrong\")\n",
        "\n",
        "armstrong(153)"
      ],
      "metadata": {
        "colab": {
          "base_uri": "https://localhost:8080/"
        },
        "id": "jbaOQkSpnf7t",
        "outputId": "95f904f7-e45f-44b8-cc5a-f9d612c74b26"
      },
      "execution_count": null,
      "outputs": [
        {
          "output_type": "stream",
          "name": "stdout",
          "text": [
            "armstrong\n"
          ]
        }
      ]
    },
    {
      "cell_type": "code",
      "source": [
        "def func(id,name,salary):\n",
        "  print(f\"id is {id} name is {name} salary is {salary}\")"
      ],
      "metadata": {
        "id": "KcqmODc1WcB9"
      },
      "execution_count": null,
      "outputs": []
    },
    {
      "cell_type": "code",
      "source": [
        "func(1,\"yash\",900)  #required argument  => parameter  = value/argument\n",
        "func(\"yash\",1,900)#position of argument matters here\n",
        "func(id = 1 , salary = 900 , name = \"yash\")   #keyword argument"
      ],
      "metadata": {
        "colab": {
          "base_uri": "https://localhost:8080/"
        },
        "id": "xRkkrM40Uzot",
        "outputId": "8f6b9cfe-f585-4f05-ac72-1b4083cf32d1"
      },
      "execution_count": null,
      "outputs": [
        {
          "output_type": "stream",
          "name": "stdout",
          "text": [
            "id is 1 name is yash salary is 900\n",
            "id is yash name is 1 salary is 900\n",
            "id is 1 name is yash salary is 900\n"
          ]
        }
      ]
    },
    {
      "cell_type": "code",
      "source": [
        "def func(id,name,salary):\n",
        "  print(f\"id is {id} name is {name} salary is {salary}\")\n",
        "\n",
        "\n",
        "func(10,salary = 1000,name = \"abhishek\")    #always makes sure keyword argument will come in last"
      ],
      "metadata": {
        "colab": {
          "base_uri": "https://localhost:8080/"
        },
        "id": "wJbyiPd1Xb1Y",
        "outputId": "57a36060-fdbd-417a-deac-4c7a3f3c8735"
      },
      "execution_count": null,
      "outputs": [
        {
          "output_type": "stream",
          "name": "stdout",
          "text": [
            "id is 10 name is abhishek salary is 1000\n"
          ]
        }
      ]
    },
    {
      "cell_type": "code",
      "source": [
        "def func(id,name,salary = 9000):                              #default parameter\n",
        "  print(f\"id is {id} name is {name} salary is {salary}\")\n",
        "\n",
        "func(10,name = \"abhishek\")\n",
        "func(10,name = \"abhishek \" , salary = 15000)\n",
        "# func(10,salary = 1000,name = \"abhishek\")"
      ],
      "metadata": {
        "colab": {
          "base_uri": "https://localhost:8080/"
        },
        "id": "5AzIC_bvYNhF",
        "outputId": "ce129316-1bdc-4ccb-fef5-aabbc9610ec0"
      },
      "execution_count": null,
      "outputs": [
        {
          "output_type": "stream",
          "name": "stdout",
          "text": [
            "id is 10 name is abhishek salary is 9000\n",
            "id is 10 name is abhishek  salary is 15000\n"
          ]
        }
      ]
    },
    {
      "cell_type": "code",
      "source": [
        "num1 = 12\n",
        "num2 = 14\n",
        "num3 = 26\n",
        "\n",
        "if num1>num2 and num1>num3:\n",
        "  greater = num1\n",
        "elif num2>num1 and num2>num3:\n",
        "  greater = num2\n",
        "else:\n",
        "  greater = num3\n",
        "while(True):\n",
        "   if(greater%num1 ==0 and greater%num2 == 0 and greater%num3 == 0):\n",
        "\n",
        "    print(f\"greater number is {greater}\")\n",
        "    break\n",
        "   greater+=1\n",
        "\n",
        "   #first class functions and its properties\n",
        "   #call by value and #call by referncece\n",
        "\n",
        "\n"
      ],
      "metadata": {
        "id": "caKeLXW-b4hY",
        "colab": {
          "base_uri": "https://localhost:8080/"
        },
        "outputId": "20576250-5d24-4c64-9bf1-3c6c6bf90521"
      },
      "execution_count": 12,
      "outputs": [
        {
          "output_type": "stream",
          "name": "stdout",
          "text": [
            "greater number is 1092\n"
          ]
        }
      ]
    }
  ]
}
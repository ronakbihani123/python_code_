{
  "nbformat": 4,
  "nbformat_minor": 0,
  "metadata": {
    "colab": {
      "provenance": [],
      "authorship_tag": "ABX9TyPqGBtVO+awDzSFlo+an0YL",
      "include_colab_link": true
    },
    "kernelspec": {
      "name": "python3",
      "display_name": "Python 3"
    },
    "language_info": {
      "name": "python"
    }
  },
  "cells": [
    {
      "cell_type": "markdown",
      "metadata": {
        "id": "view-in-github",
        "colab_type": "text"
      },
      "source": [
        "<a href=\"https://colab.research.google.com/github/ronakbihani123/python_code_/blob/main/functions_advanced_questions.ipynb\" target=\"_parent\"><img src=\"https://colab.research.google.com/assets/colab-badge.svg\" alt=\"Open In Colab\"/></a>"
      ]
    },
    {
      "cell_type": "code",
      "execution_count": null,
      "metadata": {
        "colab": {
          "base_uri": "https://localhost:8080/"
        },
        "id": "xveyYN-npYQr",
        "outputId": "1ca9a69a-3eb4-4a42-db09-f0d8e1adb377"
      },
      "outputs": [
        {
          "output_type": "stream",
          "name": "stdout",
          "text": [
            "hello\n"
          ]
        }
      ],
      "source": [
        "def func():\n",
        "  return(\"hello\")\n",
        "\n",
        "print(func())"
      ]
    },
    {
      "cell_type": "code",
      "source": [
        "def factorial (n):\n",
        "\n",
        "  factorial = 1\n",
        "  while(n>0):\n",
        "    factorial *=n\n",
        "    n = n-1\n",
        "\n",
        "  print(factorial)\n",
        "\n",
        "factorial(5)"
      ],
      "metadata": {
        "colab": {
          "base_uri": "https://localhost:8080/"
        },
        "id": "ugGM4jyYppBA",
        "outputId": "588be7b4-44ec-4fe0-9af5-6d9761b3ab65"
      },
      "execution_count": null,
      "outputs": [
        {
          "output_type": "stream",
          "name": "stdout",
          "text": [
            "120\n"
          ]
        }
      ]
    },
    {
      "cell_type": "code",
      "source": [
        "def prime (n):\n",
        "  a = 0\n",
        "  for i in range(2,n):\n",
        "    if(n%i==0):\n",
        "      a = 1\n",
        "      break\n",
        "  if(a == 1):\n",
        "    print(\"not prime \")\n",
        "  else:\n",
        "    print(\"prime \")\n",
        "\n",
        "\n",
        "prime(7)\n",
        "prime(14)\n",
        "prime(27)"
      ],
      "metadata": {
        "colab": {
          "base_uri": "https://localhost:8080/"
        },
        "id": "GBTsx_rNprjG",
        "outputId": "2df72430-2edb-46b2-acb0-fc804e966e41"
      },
      "execution_count": null,
      "outputs": [
        {
          "output_type": "stream",
          "name": "stdout",
          "text": [
            "prime \n",
            "not prime \n",
            "not prime \n"
          ]
        }
      ]
    },
    {
      "cell_type": "code",
      "source": [
        "a = \"racecar\"\n",
        "b = a[::-1]\n",
        "if(a==b):\n",
        "  print(\"it is pallindrome\")\n",
        "else:\n",
        "  print(\"not pallindrome\")"
      ],
      "metadata": {
        "colab": {
          "base_uri": "https://localhost:8080/"
        },
        "id": "FRQJB3iHpvLi",
        "outputId": "6ae791b7-a5d4-486e-90bf-d33150c6ec29"
      },
      "execution_count": null,
      "outputs": [
        {
          "output_type": "stream",
          "name": "stdout",
          "text": [
            "it is pallindrome\n"
          ]
        }
      ]
    },
    {
      "cell_type": "code",
      "source": [
        "def pallindrome(a):\n",
        "\n",
        "  for i in range (len(a)//2):\n",
        "    if(a[i]!=a[-i-1]):\n",
        "      print(\"not pallindrome\")\n",
        "      break\n",
        "  else:\n",
        "    print(\"pallindrome\")\n",
        "\n",
        "pallindrome(\"racecar\")\n",
        "pallindrome(\"hello\")"
      ],
      "metadata": {
        "colab": {
          "base_uri": "https://localhost:8080/"
        },
        "id": "mAdT16t9pyZK",
        "outputId": "1c4afa39-2bce-4d46-dc48-7e598661360c"
      },
      "execution_count": null,
      "outputs": [
        {
          "output_type": "stream",
          "name": "stdout",
          "text": [
            "pallindrome\n",
            "not pallindrome\n"
          ]
        }
      ]
    },
    {
      "cell_type": "code",
      "source": [
        "def fun (*args):\n",
        "\n",
        "\n",
        "  sum = 0\n",
        "  average = 0\n",
        "  for i in args:\n",
        "    sum = sum+i\n",
        "    average = sum//len(args)\n",
        "  return(sum,average)\n",
        "fun(1,2,3,4)\n"
      ],
      "metadata": {
        "colab": {
          "base_uri": "https://localhost:8080/"
        },
        "id": "RDAKtdhhp6Se",
        "outputId": "9f08ea82-98b8-41c0-a013-bbe333466974"
      },
      "execution_count": null,
      "outputs": [
        {
          "output_type": "execute_result",
          "data": {
            "text/plain": [
              "(10, 2)"
            ]
          },
          "metadata": {},
          "execution_count": 6
        }
      ]
    },
    {
      "cell_type": "code",
      "source": [
        "def fibonnaci1(n):\n",
        "\n",
        "  a = 0\n",
        "  b = 1\n",
        "  print(a,b,end=\" \")\n",
        "  for i in range(2,n):\n",
        "    next = a+b\n",
        "    a = b\n",
        "    b = next\n",
        "    print(next,end=\" \")\n",
        "\n",
        "fibonnaci1(8)"
      ],
      "metadata": {
        "colab": {
          "base_uri": "https://localhost:8080/"
        },
        "id": "f3ZGsVrqp7Mv",
        "outputId": "dc8c88bd-89f6-40e1-e451-fa0f8043ed03"
      },
      "execution_count": null,
      "outputs": [
        {
          "output_type": "stream",
          "name": "stdout",
          "text": [
            "0 1 1 2 3 5 8 13 "
          ]
        }
      ]
    },
    {
      "cell_type": "code",
      "source": [
        "def sum_all(*args):\n",
        "    total = 0\n",
        "    for num in args:\n",
        "      total+=num\n",
        "    return total\n",
        "\n",
        "\n",
        "print(sum_all (1,2,3))"
      ],
      "metadata": {
        "colab": {
          "base_uri": "https://localhost:8080/"
        },
        "id": "g435NHYzp-DJ",
        "outputId": "6721e2d4-b750-4740-8cbb-3232242de1b1"
      },
      "execution_count": null,
      "outputs": [
        {
          "output_type": "stream",
          "name": "stdout",
          "text": [
            "6\n"
          ]
        }
      ]
    },
    {
      "cell_type": "code",
      "source": [
        "def func(**kwargs):\n",
        "  for key,value in kwargs.items():\n",
        "    print(key,\"=\" , value)\n",
        "\n",
        "\n",
        "\n",
        "func(name = \"ronak\" , age = 22)"
      ],
      "metadata": {
        "colab": {
          "base_uri": "https://localhost:8080/"
        },
        "id": "uUD7ylgPqBBJ",
        "outputId": "8a97e893-558d-4200-af06-b1a3743acb80"
      },
      "execution_count": null,
      "outputs": [
        {
          "output_type": "stream",
          "name": "stdout",
          "text": [
            "name = ronak\n",
            "age = 22\n"
          ]
        }
      ]
    },
    {
      "cell_type": "code",
      "source": [
        "def num_sum(n):\n",
        "\n",
        "  sum = 0\n",
        "  while(n>0):\n",
        "    sum+=n%10\n",
        "    n = n//10\n",
        "  print(sum)\n",
        "\n",
        "num_sum(1234)\n",
        "num_sum(120)\n"
      ],
      "metadata": {
        "colab": {
          "base_uri": "https://localhost:8080/"
        },
        "id": "g9OOjv9JqEFZ",
        "outputId": "07ed5d19-0a3a-4dcc-e7ca-9bcb235ef757"
      },
      "execution_count": null,
      "outputs": [
        {
          "output_type": "stream",
          "name": "stdout",
          "text": [
            "10\n",
            "3\n"
          ]
        }
      ]
    },
    {
      "cell_type": "code",
      "source": [
        "def max_value (mylist):\n",
        "  maximum = mylist[0]\n",
        "  for i in mylist:\n",
        "    if(i>maximum):\n",
        "      maximum= i\n",
        "  return maximum\n",
        "\n",
        "mylist = [1,5,1,8,9]\n",
        "max_value(mylist)"
      ],
      "metadata": {
        "colab": {
          "base_uri": "https://localhost:8080/"
        },
        "id": "Yn6WDcfHqHnJ",
        "outputId": "704d37ab-e12c-4631-bab1-181b48e822da"
      },
      "execution_count": null,
      "outputs": [
        {
          "output_type": "execute_result",
          "data": {
            "text/plain": [
              "9"
            ]
          },
          "metadata": {},
          "execution_count": 11
        }
      ]
    },
    {
      "cell_type": "code",
      "source": [
        "def arm_num(n):\n",
        "  count= 0\n",
        "  temp = n\n",
        "\n",
        "  while(temp>0):\n",
        "    count+=1\n",
        "    temp = temp//10\n",
        "  temp = n\n",
        "  sum = 0\n",
        "  while(temp>0):\n",
        "    rem = temp%10\n",
        "    sum+=rem**count\n",
        "    temp= temp//10\n",
        "\n",
        "  if(n == sum):\n",
        "    print(\"armstrong number\", n)\n",
        "  else:\n",
        "    print(\"not armstrong number \",n)\n",
        "\n",
        "arm_num(151)"
      ],
      "metadata": {
        "colab": {
          "base_uri": "https://localhost:8080/"
        },
        "id": "QUksmqHuqK9C",
        "outputId": "ce2d5e15-4608-4f59-f281-fda1e013140a"
      },
      "execution_count": null,
      "outputs": [
        {
          "output_type": "stream",
          "name": "stdout",
          "text": [
            "not armstrong number  151\n"
          ]
        }
      ]
    },
    {
      "cell_type": "code",
      "source": [
        "def lcm (num1,num2):\n",
        "  if(num1>num2):\n",
        "    greater = num1\n",
        "\n",
        "  else:\n",
        "    greater = num2\n",
        "\n",
        "  while(True):\n",
        "    if (greater%num1 == 0 and greater%num2 == 0):\n",
        "      break\n",
        "    greater+=1\n",
        "  print(greater)\n",
        "lcm(4,5)"
      ],
      "metadata": {
        "colab": {
          "base_uri": "https://localhost:8080/"
        },
        "id": "pYBxVdNXqOcy",
        "outputId": "b7957410-3d2b-4641-bd58-e2d55e6a8554"
      },
      "execution_count": null,
      "outputs": [
        {
          "output_type": "stream",
          "name": "stdout",
          "text": [
            "20\n"
          ]
        }
      ]
    },
    {
      "cell_type": "code",
      "source": [
        "def greet(name):\n",
        "  return(\"hello \",name)\n",
        "\n",
        "def another(func,value):\n",
        "  return func(value)\n",
        "print (another(greet,\"ronak\"))"
      ],
      "metadata": {
        "colab": {
          "base_uri": "https://localhost:8080/"
        },
        "id": "ns61y4TNqS40",
        "outputId": "be9e5a2c-e333-4302-ffa0-c162104a84f6"
      },
      "execution_count": null,
      "outputs": [
        {
          "output_type": "stream",
          "name": "stdout",
          "text": [
            "('hello ', 'ronak')\n"
          ]
        }
      ]
    },
    {
      "cell_type": "code",
      "source": [
        "def fibonnaci(n):\n",
        "  a= 0\n",
        "  b= 1\n",
        "\n",
        "\n",
        "  for i in range(2,n+1):\n",
        "\n",
        "    if(i!=n):\n",
        "      next = a+b\n",
        "      a = b\n",
        "      b = next\n",
        "    else:\n",
        "      return(b)\n",
        "\n",
        "\n",
        "fibonnaci(7)"
      ],
      "metadata": {
        "colab": {
          "base_uri": "https://localhost:8080/"
        },
        "id": "77VZyQJFBwJ_",
        "outputId": "38410e83-961b-4bad-fea6-648932a683a1"
      },
      "execution_count": null,
      "outputs": [
        {
          "output_type": "execute_result",
          "data": {
            "text/plain": [
              "8"
            ]
          },
          "metadata": {},
          "execution_count": 42
        }
      ]
    },
    {
      "cell_type": "code",
      "source": [
        "a = lambda n : n*2\n",
        "print(a(5))"
      ],
      "metadata": {
        "colab": {
          "base_uri": "https://localhost:8080/"
        },
        "id": "OU-Se-zNFB2X",
        "outputId": "04b259ad-29ef-40a1-c69d-b51a51785d56"
      },
      "execution_count": null,
      "outputs": [
        {
          "output_type": "stream",
          "name": "stdout",
          "text": [
            "10\n"
          ]
        }
      ]
    },
    {
      "cell_type": "code",
      "source": [
        "list1 = [1,2,3,4,5,6,7,8]\n",
        "result = list(filter(lambda x : x%2==0 , list1))\n",
        "print(result)"
      ],
      "metadata": {
        "colab": {
          "base_uri": "https://localhost:8080/"
        },
        "id": "GO8Ve3ajGJ1J",
        "outputId": "b0a704e1-b6e7-434f-94da-9d10e2e08f17"
      },
      "execution_count": null,
      "outputs": [
        {
          "output_type": "stream",
          "name": "stdout",
          "text": [
            "[2, 4, 6, 8]\n"
          ]
        }
      ]
    },
    {
      "cell_type": "code",
      "source": [],
      "metadata": {
        "id": "YQgew6W8KhTb"
      },
      "execution_count": null,
      "outputs": []
    },
    {
      "cell_type": "code",
      "source": [
        "def is_even(number):\n",
        "    return number % 2 == 0\n",
        "\n",
        "numbers = [1, 2, 3, 4, 5, 6]\n",
        "even_numbers_iterator = filter(is_even, numbers)\n",
        "even_numbers_list = list(even_numbers_iterator)\n",
        "\n",
        "print(even_numbers_list)"
      ],
      "metadata": {
        "colab": {
          "base_uri": "https://localhost:8080/"
        },
        "id": "eYBQ-4ZnGFkp",
        "outputId": "6c249e72-f96a-40b7-bc39-f80bb89fbb55"
      },
      "execution_count": null,
      "outputs": [
        {
          "output_type": "stream",
          "name": "stdout",
          "text": [
            "[2, 4, 6]\n"
          ]
        }
      ]
    },
    {
      "cell_type": "code",
      "source": [
        "def temp (a):\n",
        "\n",
        "  newlist = []\n",
        "  for i in a:\n",
        "    F = (i * 9/5) + 32\n",
        "    newlist.append(F)\n",
        "  print(newlist)\n",
        "\n",
        "temp([0,10,20,50,96])           #F = (C × 9/5) + 32"
      ],
      "metadata": {
        "colab": {
          "base_uri": "https://localhost:8080/"
        },
        "id": "18TmVADAL37k",
        "outputId": "2a9fc5fe-c0e6-4b6b-c804-28282332f16b"
      },
      "execution_count": null,
      "outputs": [
        {
          "output_type": "stream",
          "name": "stdout",
          "text": [
            "[32.0, 50.0, 68.0, 122.0, 204.8]\n"
          ]
        }
      ]
    },
    {
      "cell_type": "code",
      "source": [
        "a = lambda c : (c * 9/5) + 32\n",
        "print(list(map(a, [0,10,20,30,40])))"
      ],
      "metadata": {
        "colab": {
          "base_uri": "https://localhost:8080/"
        },
        "id": "1xfydvgtOnxE",
        "outputId": "bbe16ea7-0407-418c-8552-5fc035c6c02c"
      },
      "execution_count": null,
      "outputs": [
        {
          "output_type": "stream",
          "name": "stdout",
          "text": [
            "[32.0, 50.0, 68.0, 86.0, 104.0]\n"
          ]
        }
      ]
    },
    {
      "cell_type": "code",
      "source": [
        "def count(s):\n",
        "\n",
        "  dictionary = {}\n",
        "  for i in s:\n",
        "    if(i in dictionary):\n",
        "      dictionary[i]+=1\n",
        "    else:\n",
        "      dictionary[i]=1\n",
        "  print(dictionary)\n",
        "\n",
        "count(\"ram ram\")\n"
      ],
      "metadata": {
        "colab": {
          "base_uri": "https://localhost:8080/"
        },
        "id": "tePASUE8SM8S",
        "outputId": "1d011ad5-ab1b-4f90-821a-94bcada151df"
      },
      "execution_count": null,
      "outputs": [
        {
          "output_type": "stream",
          "name": "stdout",
          "text": [
            "{'r': 2, 'a': 2, 'm': 2, ' ': 1}\n"
          ]
        }
      ]
    },
    {
      "cell_type": "code",
      "source": [
        "n = 4\n",
        "k = 2\n",
        "def power_func(base,exponent):\n",
        "\n",
        "  def compute():\n",
        "    return base**exponent\n",
        "  return compute()\n",
        "\n",
        "power_func(6,2)"
      ],
      "metadata": {
        "colab": {
          "base_uri": "https://localhost:8080/"
        },
        "id": "o2iA57puTwZQ",
        "outputId": "450f8645-dbc0-47e3-85ef-d181e622228d"
      },
      "execution_count": null,
      "outputs": [
        {
          "output_type": "execute_result",
          "data": {
            "text/plain": [
              "36"
            ]
          },
          "metadata": {},
          "execution_count": 67
        }
      ]
    },
    {
      "cell_type": "code",
      "source": [
        "def func(a):\n",
        "  if(a>0):\n",
        "    return \"positive\"\n",
        "  elif(a<0):\n",
        "    return \"negative\"\n",
        "  else:\n",
        "    return \"zero\"\n",
        "print(func(0))\n",
        "print(func(4))\n",
        "print(func(-8))"
      ],
      "metadata": {
        "id": "OjVmmReYWBJa",
        "colab": {
          "base_uri": "https://localhost:8080/"
        },
        "outputId": "c0bdfa15-f98b-4885-8b40-44bdea6961da"
      },
      "execution_count": null,
      "outputs": [
        {
          "output_type": "stream",
          "name": "stdout",
          "text": [
            "zero\n",
            "positive\n",
            "negative\n"
          ]
        }
      ]
    },
    {
      "cell_type": "code",
      "source": [
        "import time\n",
        "\n",
        "# Decorator to measure execution time\n",
        "def timer(func):\n",
        "    def wrapper(*args, **kwargs):\n",
        "        start = time.time()\n",
        "        result = func(*args, **kwargs)\n",
        "        end = time.time()\n",
        "        print(f\"Execution time: {end - start:.5f} seconds\")\n",
        "        return result\n",
        "    return wrapper\n",
        "\n",
        "@timer\n",
        "def slow_function():\n",
        "    time.sleep(2)  # simulate long-running task\n",
        "    print(\"Finished task\")\n",
        "\n",
        "# Run it\n",
        "slow_function()\n",
        "\n"
      ],
      "metadata": {
        "colab": {
          "base_uri": "https://localhost:8080/"
        },
        "id": "wdkmU9DshTJq",
        "outputId": "ad9784e1-5f14-4053-e1f0-e9e7d4f4fba5"
      },
      "execution_count": null,
      "outputs": [
        {
          "output_type": "stream",
          "name": "stdout",
          "text": [
            "Finished task\n",
            "Execution time: 2.00042 seconds\n"
          ]
        }
      ]
    },
    {
      "cell_type": "code",
      "source": [
        "s = \"to be or not to be!\"\n",
        "result = \"\"\n",
        "for i in s:\n",
        "  ascii_value= ord(i)\n",
        "  if(ascii_value%2==0):\n",
        "    result = chr(ascii_value-32)\n",
        "  else:\n",
        "    result =i\n",
        "  print(result,end=\"\")\n"
      ],
      "metadata": {
        "colab": {
          "base_uri": "https://localhost:8080/"
        },
        "id": "5QoUEBxjl222",
        "outputId": "8ea25ce0-a610-492b-bde1-2c1235dfbe21"
      },
      "execution_count": null,
      "outputs": [
        {
          "output_type": "stream",
          "name": "stdout",
          "text": [
            "To\u0000Be\u0000oR\u0000NoT\u0000To\u0000Be!"
          ]
        }
      ]
    },
    {
      "cell_type": "code",
      "source": [
        "print(116-84)"
      ],
      "metadata": {
        "colab": {
          "base_uri": "https://localhost:8080/"
        },
        "id": "bOp3AelTqGVw",
        "outputId": "b1ac30a5-a5d4-48ac-c15f-fa526da13f4d"
      },
      "execution_count": null,
      "outputs": [
        {
          "output_type": "stream",
          "name": "stdout",
          "text": [
            "32\n"
          ]
        }
      ]
    },
    {
      "cell_type": "code",
      "source": [
        "cities = [\"hyderabed\" , \"chennai\" , \"delhi\" , \"mumbai\"]\n",
        "def print_len(list):\n",
        "  return len(list)\n",
        "print_len(cities)"
      ],
      "metadata": {
        "colab": {
          "base_uri": "https://localhost:8080/"
        },
        "id": "Sh65qc481KD7",
        "outputId": "8bca742c-17e5-45b2-b3fe-c70c1e8d6db1"
      },
      "execution_count": null,
      "outputs": [
        {
          "output_type": "execute_result",
          "data": {
            "text/plain": [
              "4"
            ]
          },
          "metadata": {},
          "execution_count": 29
        }
      ]
    },
    {
      "cell_type": "code",
      "source": [
        "cities = [\"hyderabed\" , \"chennai\" , \"delhi\" , \"mumbai\"]\n",
        "def print_element(list):\n",
        "  for i in list:\n",
        "    print(i,end=\" \")\n",
        "print_element(cities)"
      ],
      "metadata": {
        "colab": {
          "base_uri": "https://localhost:8080/"
        },
        "id": "643PPEMz1K3I",
        "outputId": "25b2257d-b963-4b28-d13b-d85386c5763c"
      },
      "execution_count": null,
      "outputs": [
        {
          "output_type": "stream",
          "name": "stdout",
          "text": [
            "hyderabed chennai delhi mumbai "
          ]
        }
      ]
    }
  ]
}
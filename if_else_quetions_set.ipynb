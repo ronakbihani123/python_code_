{
  "nbformat": 4,
  "nbformat_minor": 0,
  "metadata": {
    "colab": {
      "provenance": [],
      "authorship_tag": "ABX9TyNZUHuUI+V/ADqStOdFSgdC",
      "include_colab_link": true
    },
    "kernelspec": {
      "name": "python3",
      "display_name": "Python 3"
    },
    "language_info": {
      "name": "python"
    }
  },
  "cells": [
    {
      "cell_type": "markdown",
      "metadata": {
        "id": "view-in-github",
        "colab_type": "text"
      },
      "source": [
        "<a href=\"https://colab.research.google.com/github/ronakbihani123/python_code_/blob/main/if_else_quetions_set.ipynb\" target=\"_parent\"><img src=\"https://colab.research.google.com/assets/colab-badge.svg\" alt=\"Open In Colab\"/></a>"
      ]
    },
    {
      "cell_type": "code",
      "execution_count": null,
      "metadata": {
        "colab": {
          "base_uri": "https://localhost:8080/"
        },
        "id": "t_9CnP0R54zk",
        "outputId": "65382751-b5e5-4081-8be6-d809be752ce6"
      },
      "outputs": [
        {
          "output_type": "stream",
          "name": "stdout",
          "text": [
            "enter a number 1\n",
            "odd number\n"
          ]
        }
      ],
      "source": [
        "#q 1\n",
        "n = int(input(\"enter a number \"))\n",
        "if(n%2==0):\n",
        "  print(\"even number \", n)\n",
        "else :\n",
        "  print(\"odd number\")"
      ]
    },
    {
      "cell_type": "code",
      "source": [
        "#q 2\n",
        "a = int(input(\"enter a number \"))\n",
        "b = int(input(\"enter a number \"))\n",
        "c = int(input(\"enter a number \"))\n",
        "if(a>b or a>c):\n",
        "  print(\"largest number : \" , a)\n",
        "elif(b>a or b>c):\n",
        "  print(\"largest number : \" , b)\n",
        "elif(c>a or c>b):\n",
        "  print(\"largest number : \", c)"
      ],
      "metadata": {
        "colab": {
          "base_uri": "https://localhost:8080/"
        },
        "id": "Vkvwc16i6URF",
        "outputId": "f44ab85a-9c9c-4a61-a7d1-5448a630f115"
      },
      "execution_count": null,
      "outputs": [
        {
          "output_type": "stream",
          "name": "stdout",
          "text": [
            "enter a number 12\n",
            "enter a number 198\n",
            "enter a number 66\n",
            "largest number :  198\n"
          ]
        }
      ]
    },
    {
      "cell_type": "code",
      "source": [
        "#q 3\n",
        "n = int(input(\"enter a number : \"))\n",
        "if(n%4==0):\n",
        "  print(\"leap year \", n)\n",
        "else:\n",
        "  print(\"not a leap year\")"
      ],
      "metadata": {
        "colab": {
          "base_uri": "https://localhost:8080/"
        },
        "id": "2B9Sc4E27Ffc",
        "outputId": "480e32d3-c245-49cd-ef56-4347c112c9b8"
      },
      "execution_count": null,
      "outputs": [
        {
          "output_type": "stream",
          "name": "stdout",
          "text": [
            "enter a number : 8813\n",
            "not a leap year\n"
          ]
        }
      ]
    },
    {
      "cell_type": "code",
      "source": [
        "#q 4\n",
        "percentage = int(input(\"enter a percentage : \"))\n",
        "if(percentage>=90):\n",
        "  print(\"grade 'A'\")\n",
        "elif(80<=percentage<90):\n",
        "  print(\"grade 'B'\")\n",
        "elif(70<=percentage<80):\n",
        "  print(\"grade 'C'\")\n",
        "elif(60<=percentage<70):\n",
        "  print(\"grade ' D'\")\n",
        "else:\n",
        "  print(\"grade 'f'\")\n"
      ],
      "metadata": {
        "id": "CXveq0Ye86w8",
        "colab": {
          "base_uri": "https://localhost:8080/"
        },
        "outputId": "88633d4c-dbc4-4782-eed4-ccc02e68352c"
      },
      "execution_count": null,
      "outputs": [
        {
          "output_type": "stream",
          "name": "stdout",
          "text": [
            "enter a percentage : 85\n",
            "grade 'B'\n"
          ]
        }
      ]
    },
    {
      "cell_type": "code",
      "source": [
        "#q 5\n",
        "a = input(\"enter a character : \")\n",
        "if(a=='a' or a=='e' or a == 'i' or a == 'o' or a == 'u'):\n",
        "  print(\"vowel\")\n",
        "else:\n",
        "  print(\"consonant\")\n"
      ],
      "metadata": {
        "id": "thxxpTUn9Bgn",
        "colab": {
          "base_uri": "https://localhost:8080/"
        },
        "outputId": "983bbcb2-bb55-4869-89bd-7500e77f3725"
      },
      "execution_count": null,
      "outputs": [
        {
          "output_type": "stream",
          "name": "stdout",
          "text": [
            "enter a character : o\n",
            "vowel\n"
          ]
        }
      ]
    },
    {
      "cell_type": "code",
      "source": [
        "#q 6\n",
        "a = int(input(\"enter a number : \"))\n",
        "b = int(input(\"enter a number : \"))\n",
        "c =  input(\"enter a operator\")\n",
        "if(c=='+'):\n",
        "  add = a+b\n",
        "  print(\"add = \",add)\n",
        "elif(c==\"-\"):\n",
        "  subtract = a-b\n",
        "  print(\"subtract = \", subtract)\n",
        "elif(c=='*'):\n",
        "  multiply = a*b\n",
        "  print(\"multiply = \", multiply)\n",
        "elif(c=='//'):\n",
        "  divide = a//b\n",
        "  print(\"divide = \", divide)\n",
        "else:\n",
        "  print(\"invalid operator\")"
      ],
      "metadata": {
        "colab": {
          "base_uri": "https://localhost:8080/"
        },
        "id": "gv0nEYsIryFf",
        "outputId": "75cc8ebe-57c8-488e-ee9c-ecf184d2a2cc"
      },
      "execution_count": null,
      "outputs": [
        {
          "output_type": "stream",
          "name": "stdout",
          "text": [
            "enter a number : 6\n",
            "enter a number : 2\n",
            "enter a operator//\n",
            "divide =  3\n"
          ]
        }
      ]
    },
    {
      "cell_type": "code",
      "source": [
        "#q 7\n",
        "a = int(input(\"enter a number : \"))\n",
        "if(a>0):\n",
        "  print(\"positive number \")\n",
        "elif(a<0):\n",
        "  print(\"negative number\")\n",
        "else:\n",
        "  print(\"zero\")\n"
      ],
      "metadata": {
        "colab": {
          "base_uri": "https://localhost:8080/"
        },
        "id": "BIIKPHkWuiEC",
        "outputId": "149a61de-8c78-4ecc-8139-5432f19e9af0"
      },
      "execution_count": null,
      "outputs": [
        {
          "output_type": "stream",
          "name": "stdout",
          "text": [
            "enter a number : 0\n",
            "zero\n"
          ]
        }
      ]
    },
    {
      "cell_type": "code",
      "source": [
        "#q 8\n",
        "username = \"admin\"\n",
        "password = 1234\n",
        "a = input(\"enter a username : \")\n",
        "b= int(input(\"enter a password\"))\n",
        "if(a==username and b == password):\n",
        "  print(\"login successfull\")\n",
        "else:\n",
        "  print(\"login failed\")"
      ],
      "metadata": {
        "colab": {
          "base_uri": "https://localhost:8080/"
        },
        "id": "m7atuz_ou5iu",
        "outputId": "b1b22e39-d12b-4ada-ee9a-2a95c8bd7082"
      },
      "execution_count": null,
      "outputs": [
        {
          "output_type": "stream",
          "name": "stdout",
          "text": [
            "enter a username : admin\n",
            "enter a password1234\n",
            "login successfull\n"
          ]
        }
      ]
    },
    {
      "cell_type": "code",
      "source": [
        "#q 9\n",
        "a = int(input(\"enter a number : \"))\n",
        "b = int(input(\"enter a number : \"))\n",
        "c = int(input(\"enter a number : \"))\n",
        "if(a+b>c or b+c>a or c+a>b):\n",
        "  print(\"valid triangle\")\n",
        "else:\n",
        "    print(\"not a valid triangle\")"
      ],
      "metadata": {
        "colab": {
          "base_uri": "https://localhost:8080/"
        },
        "id": "LxXZbq6rvu1X",
        "outputId": "d3ce6ad6-0a5a-468b-a64c-68ab0a23a9c9"
      },
      "execution_count": null,
      "outputs": [
        {
          "output_type": "stream",
          "name": "stdout",
          "text": [
            "enter a number : 5\n",
            "enter a number : 108\n",
            "enter a number : 364\n",
            "valid triangle\n"
          ]
        }
      ]
    },
    {
      "cell_type": "code",
      "source": [
        "#q 10\n",
        "weight = int(input(\"enter your weight : \"))\n",
        "height = float(input(\"enter your height : \"))\n",
        "bmi = weight / (height**2)\n",
        "print(bmi)\n",
        "if(bmi<18.5):\n",
        "  print(\"underweight\")\n",
        "elif(18.5<=bmi<22.9):\n",
        "  print(\"normal weight\")\n",
        "elif(25<=bmi<29.9):\n",
        "  print(\"overweight\")\n",
        "elif(bmi>=30):\n",
        "  print(\"obesity\")\n"
      ],
      "metadata": {
        "id": "0Gkc_DcUzjlA",
        "colab": {
          "base_uri": "https://localhost:8080/"
        },
        "outputId": "2d68afd3-8727-49a3-8452-579555fe70d6"
      },
      "execution_count": null,
      "outputs": [
        {
          "output_type": "stream",
          "name": "stdout",
          "text": [
            "enter your weight : 67\n",
            "enter your height : 1.73\n",
            "22.386314277122523\n",
            "normal weight\n"
          ]
        }
      ]
    },
    {
      "cell_type": "code",
      "source": [
        "#q 11\n",
        "price = int(input(\"enter a price : \"))\n",
        "if(price>1000):\n",
        "  print(\"the final price after applying the discount is \" , price*0.9)\n",
        "elif(500<=price<1000):\n",
        "  print(\"the final price after applying the discount is \", price*0.95)\n",
        "else:\n",
        "  print(\"no discount\")"
      ],
      "metadata": {
        "colab": {
          "base_uri": "https://localhost:8080/"
        },
        "id": "cyAUuNGoIMAf",
        "outputId": "1a16a424-23f9-46c2-b899-ee2da4b67442"
      },
      "execution_count": null,
      "outputs": [
        {
          "output_type": "stream",
          "name": "stdout",
          "text": [
            "enter a price : 600\n",
            "the final price after applying the discount is  570.0\n"
          ]
        }
      ]
    },
    {
      "cell_type": "code",
      "source": [
        "#q 12\n",
        "a = input(\"enter the month : \")\n",
        "if(a==\"january\"):\n",
        "  print(\"no . of days : 31\")\n",
        "elif(a==\"february\"):\n",
        "  print(\"no . of days : 29\")\n",
        "elif(a==\"march\"):\n",
        "  print(\"no . of days : 31\")\n",
        "elif(a==\"april\"):\n",
        "  print(\"no . of days : 30\")\n",
        "elif(a==\"may\"):\n",
        "  print(\"no . of days : 31\")\n",
        "elif(a==\"june\"):\n",
        "  print(\"no . of days : 30\")\n",
        "elif(a==\"july\"):\n",
        "  print(\"no . of days : 31\")\n",
        "elif(a==\"august\"):\n",
        "  print(\"no . of days : 31\")\n",
        "elif(a==\"september\"):\n",
        "  print(\"no . of days : 30\")\n",
        "elif(a==\"october\"):\n",
        "  print(\"no . of days : 31\")\n",
        "elif(a==\"november\"):\n",
        "  print(\"no . of days : 30\")\n",
        "elif(a==\"december\"):\n",
        "  print(\"no . of days : 31\")\n",
        "else:\n",
        "  print(\"invalid month\")"
      ],
      "metadata": {
        "colab": {
          "base_uri": "https://localhost:8080/"
        },
        "id": "bJIbi--HWt_y",
        "outputId": "cbd538e0-6f29-44a1-f4fb-08bea9c5f642"
      },
      "execution_count": null,
      "outputs": [
        {
          "output_type": "stream",
          "name": "stdout",
          "text": [
            "enter the month : march\n",
            "no . of days : 31\n"
          ]
        }
      ]
    },
    {
      "cell_type": "code",
      "source": [
        "#q 13\n",
        "print(\"select your choice \")\n",
        "balance = 45000\n",
        "a = print(\"check balance\")\n",
        "b = print(\"withdraw money\")\n",
        "c = print(\"deposit money\")\n",
        "choice = input(\"enter your choice : \")\n",
        "if(choice == \"a\"):\n",
        "  print(\"check balance\")\n",
        "elif(choice == \"b\"):\n",
        "  amount = int(input(\"enter amount to withdraw\"))\n",
        "  if(balance>amount):\n",
        "    print(\"account balance : \",balance-amount)\n",
        "    print(\"withdraw money\")\n",
        "  else:\n",
        "    print(\"insufficient balance\")\n",
        "elif(choice == \"c\"):\n",
        "  print(\"deposit money\")\n",
        "else:\n",
        "  print(\"invalid choice\")\n"
      ],
      "metadata": {
        "colab": {
          "base_uri": "https://localhost:8080/"
        },
        "id": "MkachKMEW9BP",
        "outputId": "2930783b-63de-4539-fafd-a1bac263a23e"
      },
      "execution_count": null,
      "outputs": [
        {
          "output_type": "stream",
          "name": "stdout",
          "text": [
            "select your choice \n",
            "check balance\n",
            "withdraw money\n",
            "deposit money\n",
            "enter your choice : b\n",
            "enter amount to withdraw4560\n",
            "account balance :  40440\n",
            "withdraw money\n"
          ]
        }
      ]
    },
    {
      "cell_type": "code",
      "source": [
        "#q 14\n",
        "age = int(input(\"enter your age : \"))\n",
        "if(0<age<=1):\n",
        "  print(\"infant\")\n",
        "elif(2<=age<=4):\n",
        "  print(\"toddler\")\n",
        "elif(5<=age<=12):\n",
        "  print(\"child\")\n",
        "elif(13<=age<=19):\n",
        "  print(\"teenager\")\n",
        "elif(20<=age<=59):\n",
        "  print(\"adult\")\n",
        "elif(60<=age<=100):\n",
        "  print(\"senior citizen\")\n",
        "else:\n",
        "  print(\"invalid age\")"
      ],
      "metadata": {
        "colab": {
          "base_uri": "https://localhost:8080/"
        },
        "id": "Y4Kii5oZ30za",
        "outputId": "dc481112-ad58-4609-de9c-4fc5ab5ea34b"
      },
      "execution_count": null,
      "outputs": [
        {
          "output_type": "stream",
          "name": "stdout",
          "text": [
            "enter your age : 13\n",
            "teenager\n"
          ]
        }
      ]
    },
    {
      "cell_type": "code",
      "source": [
        "#q 15\n",
        "n = int(input(\"enter a number\"))\n",
        "if(n==1):\n",
        "  print(\"monday\")\n",
        "elif(n==2):\n",
        "  print(\"tuesday\")\n",
        "elif(n==3):\n",
        "  print(\"wednesday\")\n",
        "elif(n==4):\n",
        "  print(\"thursday\")\n",
        "elif(n==5):\n",
        "  print(\"friday\")\n",
        "elif(n==6):\n",
        "  print(\"saturday\")\n",
        "elif(n==7):\n",
        "  print(\"sunday\")\n",
        "else:\n",
        "  print(\"enter a valid number\")"
      ],
      "metadata": {
        "id": "8W621NBF45FS"
      },
      "execution_count": null,
      "outputs": []
    }
  ]
}
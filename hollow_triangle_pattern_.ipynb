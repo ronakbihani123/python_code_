{
  "nbformat": 4,
  "nbformat_minor": 0,
  "metadata": {
    "colab": {
      "provenance": [],
      "authorship_tag": "ABX9TyP0VRywVOjnWEmc1t5wLnTM",
      "include_colab_link": true
    },
    "kernelspec": {
      "name": "python3",
      "display_name": "Python 3"
    },
    "language_info": {
      "name": "python"
    }
  },
  "cells": [
    {
      "cell_type": "markdown",
      "metadata": {
        "id": "view-in-github",
        "colab_type": "text"
      },
      "source": [
        "<a href=\"https://colab.research.google.com/github/ronakbihani123/python_code_/blob/main/hollow_triangle_pattern_.ipynb\" target=\"_parent\"><img src=\"https://colab.research.google.com/assets/colab-badge.svg\" alt=\"Open In Colab\"/></a>"
      ]
    },
    {
      "cell_type": "code",
      "execution_count": null,
      "metadata": {
        "colab": {
          "base_uri": "https://localhost:8080/"
        },
        "id": "Sk3htAbZ7gHh",
        "outputId": "872b7fce-7386-4c49-c510-f76bd01f4c8d"
      },
      "outputs": [
        {
          "output_type": "stream",
          "name": "stdout",
          "text": [
            "- * * * *  \n",
            "- - * * *  \n",
            "- - - * *  \n",
            "- - - - *  \n",
            "- - - - -  \n"
          ]
        }
      ],
      "source": [
        "for i in range(1,6):\n",
        "\n",
        "  for j in range(1,i+1):\n",
        "    print(\"-\",end=\" \")\n",
        "\n",
        "  for k in range(1,5-i+1):\n",
        "    print(\"*\",end = \" \")\n",
        "\n",
        "  print(\" \")\n"
      ]
    },
    {
      "cell_type": "code",
      "source": [
        "for i in range(1,6):\n",
        "\n",
        "  for j in range(1,1+i):\n",
        "    print(\"-\",end=\" \")\n",
        "\n",
        "  for k in range(1,5-i+1):\n",
        "    print(\"*\",end=\" \")\n",
        "  print(\" \")"
      ],
      "metadata": {
        "colab": {
          "base_uri": "https://localhost:8080/"
        },
        "id": "u1l139Kc5DZ1",
        "outputId": "7778e4b3-ef16-4c9c-ecfc-26cedc3ffc91"
      },
      "execution_count": null,
      "outputs": [
        {
          "output_type": "stream",
          "name": "stdout",
          "text": [
            "- * * * *  \n",
            "- - * * *  \n",
            "- - - * *  \n",
            "- - - - *  \n",
            "- - - - -  \n"
          ]
        }
      ]
    },
    {
      "cell_type": "code",
      "source": [
        "for i in range(1,6):\n",
        "  for j in range(1,6-i+1):\n",
        "    if(i==1 or j==1 or j==6-i):\n",
        "      print(\"*\",end=\" \")\n",
        "    else:\n",
        "      print(\"-\",end=\" \")\n",
        "\n",
        "  print(\" \")"
      ],
      "metadata": {
        "colab": {
          "base_uri": "https://localhost:8080/"
        },
        "id": "ri-HkU1x9gTr",
        "outputId": "17bdf489-fe92-41d2-d449-f68b794a2e25"
      },
      "execution_count": 47,
      "outputs": [
        {
          "output_type": "stream",
          "name": "stdout",
          "text": [
            "* * * * *  \n",
            "* - - *  \n",
            "* - *  \n",
            "* *  \n",
            "*  \n"
          ]
        }
      ]
    },
    {
      "cell_type": "code",
      "source": [
        "\n",
        "for i in range(1,6):\n",
        "\n",
        "  for j in range(1,i+1):\n",
        "    print(j,end=\" \")\n",
        "  x = 65\n",
        "  for k in range(1,5-i+1):\n",
        "\n",
        "    print(chr(x),end = \" \")\n",
        "    x+=1\n",
        "  print(\" \")\n"
      ],
      "metadata": {
        "colab": {
          "base_uri": "https://localhost:8080/"
        },
        "id": "AlkuZtxM_YPt",
        "outputId": "3c6e8614-dd39-4fd7-e7e8-d26118e91c03"
      },
      "execution_count": 8,
      "outputs": [
        {
          "output_type": "stream",
          "name": "stdout",
          "text": [
            "1 A B C D  \n",
            "1 2 A B C  \n",
            "1 2 3 A B  \n",
            "1 2 3 4 A  \n",
            "1 2 3 4 5  \n"
          ]
        }
      ]
    },
    {
      "cell_type": "code",
      "source": [
        "for i in range(1,5):\n",
        "\n",
        "  for j in range(1,i-1+1):\n",
        "    print(\"-\",end = \" \")\n",
        "\n",
        "  for k in range(1,5-i+1):\n",
        "    print(\"*\",end = \" \")\n",
        "  print(\" \")"
      ],
      "metadata": {
        "id": "CzwBk0H2BbI9",
        "colab": {
          "base_uri": "https://localhost:8080/"
        },
        "outputId": "e96998a8-bec0-4fe5-cae9-c7dbad5f9b77"
      },
      "execution_count": 15,
      "outputs": [
        {
          "output_type": "stream",
          "name": "stdout",
          "text": [
            "* * * *  \n",
            "- * * *  \n",
            "- - * *  \n",
            "- - - *  \n"
          ]
        }
      ]
    },
    {
      "cell_type": "code",
      "source": [
        "for i in range(1,6):\n",
        "\n",
        "  for j in range(1,6-i+1):\n",
        "    if(i==1 or j==1 or j==5-i+1):\n",
        "     print(\"*\",end=\" \")\n",
        "    else:\n",
        "      print(\" \",end= \" \")\n",
        "  print()"
      ],
      "metadata": {
        "colab": {
          "base_uri": "https://localhost:8080/"
        },
        "id": "qK4_rGArGhMw",
        "outputId": "84fbf5e9-5b2f-4bb3-f414-082764ef84ca"
      },
      "execution_count": 37,
      "outputs": [
        {
          "output_type": "stream",
          "name": "stdout",
          "text": [
            "* * * * * \n",
            "*     * \n",
            "*   * \n",
            "* * \n",
            "* \n"
          ]
        }
      ]
    },
    {
      "cell_type": "code",
      "source": [
        "for i in range(1,6):\n",
        "\n",
        "  for j in range(1,i):\n",
        "      print(\"-\",end=\" \")\n",
        "  for k in range(1,6-i+1):\n",
        "    if(k == 1 or k == 5-i+1 or i==1):\n",
        "      print(\"*\",end = \" \")\n",
        "    else:\n",
        "      print(\" \",end = \" \")\n",
        "  print(\" \")\n",
        ""
      ],
      "metadata": {
        "colab": {
          "base_uri": "https://localhost:8080/"
        },
        "id": "fVu74OLzKiNI",
        "outputId": "f409e998-d888-4fc1-fd21-55a2b6453bae"
      },
      "execution_count": 41,
      "outputs": [
        {
          "output_type": "stream",
          "name": "stdout",
          "text": [
            "* * * * *  \n",
            "- *     *  \n",
            "- - *   *  \n",
            "- - - * *  \n",
            "- - - - *  \n"
          ]
        }
      ]
    }
  ]
}
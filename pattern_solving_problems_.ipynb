{
  "nbformat": 4,
  "nbformat_minor": 0,
  "metadata": {
    "colab": {
      "provenance": [],
      "authorship_tag": "ABX9TyMNpnkiKM7Ai22BHIs2icGa",
      "include_colab_link": true
    },
    "kernelspec": {
      "name": "python3",
      "display_name": "Python 3"
    },
    "language_info": {
      "name": "python"
    }
  },
  "cells": [
    {
      "cell_type": "markdown",
      "metadata": {
        "id": "view-in-github",
        "colab_type": "text"
      },
      "source": [
        "<a href=\"https://colab.research.google.com/github/ronakbihani123/python_code_/blob/main/pattern_solving_problems_.ipynb\" target=\"_parent\"><img src=\"https://colab.research.google.com/assets/colab-badge.svg\" alt=\"Open In Colab\"/></a>"
      ]
    },
    {
      "cell_type": "code",
      "execution_count": null,
      "metadata": {
        "colab": {
          "base_uri": "https://localhost:8080/"
        },
        "id": "pcFjX9BfA34u",
        "outputId": "40bd91ce-163b-4a19-a41e-6aa6b4ffa44a"
      },
      "outputs": [
        {
          "output_type": "stream",
          "name": "stdout",
          "text": [
            "*  *  *  *   \n",
            "*  *  *   \n",
            "*  *   \n",
            "*   \n"
          ]
        }
      ],
      "source": [
        "for i in range(1,5):\n",
        "\n",
        "  for j in range(4,i-1,-1):\n",
        "    print(\"* \", end = \" \")\n",
        "  print(\" \")"
      ]
    },
    {
      "cell_type": "code",
      "source": [
        "for i in range(1,5):\n",
        "  for j in range(1,5):\n",
        "    print(\"*\",end=\" \")\n",
        "  print(\" \")"
      ],
      "metadata": {
        "colab": {
          "base_uri": "https://localhost:8080/"
        },
        "id": "LkQItZiwoz9L",
        "outputId": "f9147b04-3309-454d-ebfd-df78c854942d"
      },
      "execution_count": 39,
      "outputs": [
        {
          "output_type": "stream",
          "name": "stdout",
          "text": [
            "* * * *  \n",
            "* * * *  \n",
            "* * * *  \n",
            "* * * *  \n"
          ]
        }
      ]
    },
    {
      "cell_type": "code",
      "source": [
        "x = 10\n",
        "for i in range(1,4):\n",
        "\n",
        "  for j in range(1,i+1):\n",
        "    print(x,end=\" \")\n",
        "    x+=1\n",
        "  print(\" \")\n"
      ],
      "metadata": {
        "colab": {
          "base_uri": "https://localhost:8080/"
        },
        "id": "az53Cto7CIi-",
        "outputId": "063167dc-9a91-4ed3-ef2e-6ca4738993d5"
      },
      "execution_count": null,
      "outputs": [
        {
          "output_type": "stream",
          "name": "stdout",
          "text": [
            "10  \n",
            "11 12  \n",
            "13 14 15  \n"
          ]
        }
      ]
    },
    {
      "cell_type": "code",
      "source": [
        "for i in range(1,5):\n",
        "  a = 10\n",
        "  for j in range(1,i+1):\n",
        "    print((a), end=\" \")\n",
        "    a = a+1\n",
        "  print(\" \")"
      ],
      "metadata": {
        "colab": {
          "base_uri": "https://localhost:8080/"
        },
        "id": "sZ_2TuIMCvmU",
        "outputId": "4756a9be-7c92-4ca5-959a-54ac101e9e80"
      },
      "execution_count": null,
      "outputs": [
        {
          "output_type": "stream",
          "name": "stdout",
          "text": [
            "10  \n",
            "10 11  \n",
            "10 11 12  \n",
            "10 11 12 13  \n"
          ]
        }
      ]
    },
    {
      "cell_type": "code",
      "source": [
        "for i in range (1,5):\n",
        "  x = 65\n",
        "  for j in range(1,i+1):\n",
        "    print(chr(x) , end= \" \")\n",
        "    x+=1\n",
        "  print(\" \")"
      ],
      "metadata": {
        "colab": {
          "base_uri": "https://localhost:8080/"
        },
        "id": "QtjIabsJDs6o",
        "outputId": "294e2b49-59e4-4f1d-f3f4-2d79e6101999"
      },
      "execution_count": null,
      "outputs": [
        {
          "output_type": "stream",
          "name": "stdout",
          "text": [
            "A  \n",
            "A B  \n",
            "A B C  \n",
            "A B C D  \n"
          ]
        }
      ]
    },
    {
      "cell_type": "code",
      "source": [
        "for i in range(1,5):\n",
        "  x = 68\n",
        "  for j in range(1,i+1):\n",
        "    print(chr(x),end = \" \")\n",
        "    x -=1\n",
        "  print(\" \")"
      ],
      "metadata": {
        "colab": {
          "base_uri": "https://localhost:8080/"
        },
        "id": "NqZpkQFOELO1",
        "outputId": "660fe79e-4175-4a72-92b0-168644c7239a"
      },
      "execution_count": null,
      "outputs": [
        {
          "output_type": "stream",
          "name": "stdout",
          "text": [
            "D  \n",
            "D C  \n",
            "D C B  \n",
            "D C B A  \n"
          ]
        }
      ]
    },
    {
      "cell_type": "code",
      "source": [
        "for i in range(4,0,-1):\n",
        "  x= 68\n",
        "  for j in range(i,0,-1):\n",
        "    print(chr(x),end = \" \")\n",
        "    x-=1\n",
        "  print(\" \")\n"
      ],
      "metadata": {
        "colab": {
          "base_uri": "https://localhost:8080/"
        },
        "id": "PPlWlWXmEgkb",
        "outputId": "cf81557d-2c0a-457b-fc96-eb3deb77eab0"
      },
      "execution_count": null,
      "outputs": [
        {
          "output_type": "stream",
          "name": "stdout",
          "text": [
            "D C B A  \n",
            "D C B  \n",
            "D C  \n",
            "D  \n"
          ]
        }
      ]
    },
    {
      "cell_type": "code",
      "source": [
        "for i in range(1,6):\n",
        "\n",
        "  for j in range(1,i+1):\n",
        "    if j%2!=0:\n",
        "      print(1, end=\" \")\n",
        "    else:\n",
        "      print(2, end=\" \")\n",
        "  print(\" \")\n"
      ],
      "metadata": {
        "id": "URsoWqR8Vq3s",
        "colab": {
          "base_uri": "https://localhost:8080/"
        },
        "outputId": "4989f38a-7977-4763-e41e-4cacdcb86fc8"
      },
      "execution_count": null,
      "outputs": [
        {
          "output_type": "stream",
          "name": "stdout",
          "text": [
            "1  \n",
            "1 2  \n",
            "1 2 1  \n",
            "1 2 1 2  \n",
            "1 2 1 2 1  \n"
          ]
        }
      ]
    },
    {
      "cell_type": "code",
      "source": [
        "x = 70\n",
        "for i in range(1,5):\n",
        "\n",
        "  for j in range(1,i+1):\n",
        "     print(chr(x) , end = \" \")\n",
        "     x = x+2\n",
        "  print(\" \")"
      ],
      "metadata": {
        "colab": {
          "base_uri": "https://localhost:8080/"
        },
        "id": "AqPqc7ZakMI5",
        "outputId": "01661ff1-fbfe-4d1b-adde-055cce402dcc"
      },
      "execution_count": null,
      "outputs": [
        {
          "output_type": "stream",
          "name": "stdout",
          "text": [
            "F  \n",
            "H J  \n",
            "L N P  \n",
            "R T V X  \n"
          ]
        }
      ]
    },
    {
      "cell_type": "code",
      "source": [
        "for i in range(4 , 0,-1):\n",
        "  for s in range(4-i,0,-1):\n",
        "    print(\" \",end = \" \")\n",
        "  for j in range(i,0,-1):\n",
        "\n",
        "    print(\"*\",end= \" \")\n",
        "  print(\" \")\n"
      ],
      "metadata": {
        "colab": {
          "base_uri": "https://localhost:8080/"
        },
        "id": "zoe7GWgJm1Lg",
        "outputId": "412651ce-22e6-4587-c803-a9c18fcd3eec"
      },
      "execution_count": 6,
      "outputs": [
        {
          "output_type": "stream",
          "name": "stdout",
          "text": [
            "* * * *  \n",
            "  * * *  \n",
            "    * *  \n",
            "      *  \n"
          ]
        }
      ]
    },
    {
      "cell_type": "code",
      "source": [
        "##Assignment pattern\n",
        "for i in range (1,5):\n",
        "  a = 1\n",
        "  for j in range(1,i+1):\n",
        "    print(a, end=\" \")\n",
        "    a+=1\n",
        "  print(\" \")"
      ],
      "metadata": {
        "colab": {
          "base_uri": "https://localhost:8080/"
        },
        "id": "E0SJs_WAyayW",
        "outputId": "db1c3738-0315-470a-e0d6-05ed1b15a45f"
      },
      "execution_count": 2,
      "outputs": [
        {
          "output_type": "stream",
          "name": "stdout",
          "text": [
            "1  \n",
            "1 2  \n",
            "1 2 3  \n",
            "1 2 3 4  \n"
          ]
        }
      ]
    },
    {
      "cell_type": "code",
      "source": [
        "a = 1\n",
        "for i in range (1,5):\n",
        "\n",
        "  for j in range(1,i+1):\n",
        "    print(a, end=\" \")\n",
        "    a+=1\n",
        "  print(\" \")"
      ],
      "metadata": {
        "colab": {
          "base_uri": "https://localhost:8080/"
        },
        "id": "ZOBv9XRizL_a",
        "outputId": "01df7d98-452b-4869-9c95-95ccb4338e30"
      },
      "execution_count": null,
      "outputs": [
        {
          "output_type": "stream",
          "name": "stdout",
          "text": [
            "1  \n",
            "2 3  \n",
            "4 5 6  \n",
            "7 8 9 10  \n"
          ]
        }
      ]
    },
    {
      "cell_type": "code",
      "source": [
        "  a = 10\n",
        "  for i in range(1,5):\n",
        "\n",
        "    for j in range (1,i+1):\n",
        "      print(a , end=\" \")\n",
        "      a-=1\n",
        "    print(\" \")"
      ],
      "metadata": {
        "colab": {
          "base_uri": "https://localhost:8080/"
        },
        "id": "nx8vvQVizUZI",
        "outputId": "d587752b-eb71-4fb1-dc23-91971d39525e"
      },
      "execution_count": null,
      "outputs": [
        {
          "output_type": "stream",
          "name": "stdout",
          "text": [
            "10  \n",
            "9 8  \n",
            "7 6 5  \n",
            "4 3 2 1  \n"
          ]
        }
      ]
    },
    {
      "cell_type": "code",
      "source": [
        "for i in range (1,5):\n",
        "  x= 65\n",
        "  for j in range(1,i+1):\n",
        "    print(chr(x),end = \" \")\n",
        "    x+=1\n",
        "  print(\" \")"
      ],
      "metadata": {
        "colab": {
          "base_uri": "https://localhost:8080/"
        },
        "id": "qAfdCVTdzqUl",
        "outputId": "bcffd834-02fb-4000-a3ac-795465729983"
      },
      "execution_count": null,
      "outputs": [
        {
          "output_type": "stream",
          "name": "stdout",
          "text": [
            "A  \n",
            "A B  \n",
            "A B C  \n",
            "A B C D  \n"
          ]
        }
      ]
    },
    {
      "cell_type": "code",
      "source": [
        "x = 65\n",
        "for i in range(1,4):\n",
        "\n",
        "  for j in range(1,i+1):\n",
        "    print(chr(x), end=\" \")\n",
        "    x += 1\n",
        "  print(\" \")"
      ],
      "metadata": {
        "colab": {
          "base_uri": "https://localhost:8080/"
        },
        "id": "b4k8E-eXz1pt",
        "outputId": "30943a3f-d52f-4efc-b3c0-5eb6e84fc757"
      },
      "execution_count": null,
      "outputs": [
        {
          "output_type": "stream",
          "name": "stdout",
          "text": [
            "A  \n",
            "B C  \n",
            "D E F  \n"
          ]
        }
      ]
    },
    {
      "cell_type": "code",
      "source": [
        "x = 90\n",
        "for i in range(1,4):\n",
        "\n",
        "  for j in range(1,i+1):\n",
        "    print(chr(x), end=\" \")\n",
        "    x -= 1\n",
        "  print(\" \")"
      ],
      "metadata": {
        "colab": {
          "base_uri": "https://localhost:8080/"
        },
        "id": "x1G6Ega_0Lqk",
        "outputId": "5418e41b-98bb-4855-97e2-3dbc2f40bc2a"
      },
      "execution_count": null,
      "outputs": [
        {
          "output_type": "stream",
          "name": "stdout",
          "text": [
            "Z  \n",
            "Y X  \n",
            "W V U  \n"
          ]
        }
      ]
    },
    {
      "cell_type": "code",
      "source": [
        "for i in range(1,6):\n",
        "\n",
        "  for j in range(1,i+1):\n",
        "    if(j==1 or j==i or i==5):\n",
        "     print(\"*\" , end=\" \")\n",
        "    else:\n",
        "      print(\" \",end=\" \")\n",
        "  print(\" \")"
      ],
      "metadata": {
        "colab": {
          "base_uri": "https://localhost:8080/"
        },
        "id": "YxpOssiE03cQ",
        "outputId": "82852473-439a-497d-f1b5-dc7e1b918724"
      },
      "execution_count": null,
      "outputs": [
        {
          "output_type": "stream",
          "name": "stdout",
          "text": [
            "*  \n",
            "* *  \n",
            "*   *  \n",
            "*     *  \n",
            "* * * * *  \n"
          ]
        }
      ]
    },
    {
      "cell_type": "code",
      "source": [
        "x = 97\n",
        "y = 1\n",
        "\n",
        "for i in range (1,5):\n",
        "\n",
        "  for j in range(1,i+1):\n",
        "    print(y,chr(x),end = \" \")\n",
        "    x+=1\n",
        "    y+=1\n",
        "  print(\" \")"
      ],
      "metadata": {
        "colab": {
          "base_uri": "https://localhost:8080/"
        },
        "id": "GIg4xlCm9WYO",
        "outputId": "04acb529-4733-4440-b6af-542c140d3b12"
      },
      "execution_count": null,
      "outputs": [
        {
          "output_type": "stream",
          "name": "stdout",
          "text": [
            "1 a  \n",
            "2 b 3 c  \n",
            "4 d 5 e 6 f  \n",
            "7 g 8 h 9 i 10 j  \n"
          ]
        }
      ]
    },
    {
      "cell_type": "code",
      "source": [
        "#python pattern"
      ],
      "metadata": {
        "id": "wHklD6SJX1qu"
      },
      "execution_count": null,
      "outputs": []
    },
    {
      "cell_type": "code",
      "source": [
        "for i in range(1,6):\n",
        "\n",
        "  for j in range(1,i+1):\n",
        "    print(\"*\" ,end=\"\")\n",
        "  print(\" \")"
      ],
      "metadata": {
        "colab": {
          "base_uri": "https://localhost:8080/"
        },
        "id": "jreQ6SjaX-cd",
        "outputId": "c68b8293-e384-4670-ff42-779697f111c3"
      },
      "execution_count": 8,
      "outputs": [
        {
          "output_type": "stream",
          "name": "stdout",
          "text": [
            "* \n",
            "** \n",
            "*** \n",
            "**** \n",
            "***** \n"
          ]
        }
      ]
    },
    {
      "cell_type": "code",
      "source": [
        "for i in range(1,5):\n",
        "\n",
        "  for j in range(1,i+1):\n",
        "    print(j ,end=\"\")\n",
        "  print(\" \")"
      ],
      "metadata": {
        "colab": {
          "base_uri": "https://localhost:8080/"
        },
        "id": "NiP7MVf9YUbv",
        "outputId": "cce82bd5-2f1c-4b7f-c84b-820ab202cb8f"
      },
      "execution_count": 11,
      "outputs": [
        {
          "output_type": "stream",
          "name": "stdout",
          "text": [
            "1 \n",
            "12 \n",
            "123 \n",
            "1234 \n"
          ]
        }
      ]
    },
    {
      "cell_type": "code",
      "source": [
        "a = 1\n",
        "for i in range(1,5):\n",
        "  for j in range(1,i+1):\n",
        "    print(a , end=\"\")\n",
        "    a +=1\n",
        "  print(\" \")"
      ],
      "metadata": {
        "colab": {
          "base_uri": "https://localhost:8080/"
        },
        "id": "OsW9Z3QCYfq2",
        "outputId": "12465a24-2a13-49b9-b567-addab0f59b8b"
      },
      "execution_count": 14,
      "outputs": [
        {
          "output_type": "stream",
          "name": "stdout",
          "text": [
            "1 \n",
            "23 \n",
            "456 \n",
            "78910 \n"
          ]
        }
      ]
    },
    {
      "cell_type": "code",
      "source": [
        "for i in range(5,0,-1):\n",
        "\n",
        "  for j in range(i,0,-1):\n",
        "    print(\"*\",end=\"\")\n",
        "  print(\" \")"
      ],
      "metadata": {
        "colab": {
          "base_uri": "https://localhost:8080/"
        },
        "id": "9BuocYMMZAAs",
        "outputId": "8065c741-9b2c-4818-c42c-a27ab639fcf6"
      },
      "execution_count": 16,
      "outputs": [
        {
          "output_type": "stream",
          "name": "stdout",
          "text": [
            "***** \n",
            "**** \n",
            "*** \n",
            "** \n",
            "* \n"
          ]
        }
      ]
    },
    {
      "cell_type": "code",
      "source": [
        "for i in range(4,0,-1):\n",
        "  x = 65\n",
        "  for j in range(i,0,-1):\n",
        "    print(chr(x), end=\"\")\n",
        "    x = x+1\n",
        "  print(\" \")"
      ],
      "metadata": {
        "colab": {
          "base_uri": "https://localhost:8080/"
        },
        "id": "WJQK0JmCZtx0",
        "outputId": "9f6a448b-d55f-4acc-a0f2-2317442ef255"
      },
      "execution_count": 18,
      "outputs": [
        {
          "output_type": "stream",
          "name": "stdout",
          "text": [
            "ABCD \n",
            "ABC \n",
            "AB \n",
            "A \n"
          ]
        }
      ]
    },
    {
      "cell_type": "code",
      "source": [
        "for i in range(1,5):\n",
        "\n",
        "  for j in range(1,i+1):\n",
        "    print(i,end=\"\")\n",
        "  print(\" \")"
      ],
      "metadata": {
        "colab": {
          "base_uri": "https://localhost:8080/"
        },
        "id": "-lDVZp4AaPmC",
        "outputId": "bb7a264d-c1bd-45de-9b15-e8077ed50b3f"
      },
      "execution_count": 19,
      "outputs": [
        {
          "output_type": "stream",
          "name": "stdout",
          "text": [
            "1 \n",
            "22 \n",
            "333 \n",
            "4444 \n"
          ]
        }
      ]
    },
    {
      "cell_type": "code",
      "source": [
        "for i in range(4,0,-1):\n",
        "  a = 4\n",
        "  for j in range(i,0,-1):\n",
        "    print(a , end=\"\")\n",
        "    a -=1\n",
        "  print(\" \")"
      ],
      "metadata": {
        "colab": {
          "base_uri": "https://localhost:8080/"
        },
        "id": "RhnCefBwaebh",
        "outputId": "5ed449f9-58ed-4bb9-ddb7-bc68759a7077"
      },
      "execution_count": 21,
      "outputs": [
        {
          "output_type": "stream",
          "name": "stdout",
          "text": [
            "4321 \n",
            "432 \n",
            "43 \n",
            "4 \n"
          ]
        }
      ]
    },
    {
      "cell_type": "code",
      "source": [
        "for i in range(1,5):\n",
        "  x = 65\n",
        "  for j in range(1,i+1):\n",
        "    print(chr(x),end=\"\")\n",
        "    x+=1\n",
        "  print(\" \")"
      ],
      "metadata": {
        "colab": {
          "base_uri": "https://localhost:8080/"
        },
        "id": "Gi2OWbuNbf1t",
        "outputId": "33b45053-298f-467c-af63-6354a7c71c3d"
      },
      "execution_count": 22,
      "outputs": [
        {
          "output_type": "stream",
          "name": "stdout",
          "text": [
            "A \n",
            "AB \n",
            "ABC \n",
            "ABCD \n"
          ]
        }
      ]
    },
    {
      "cell_type": "code",
      "source": [
        "for i in range(5,0,-1):\n",
        "\n",
        "  for j in range(1,i+1):\n",
        "    print(j , end=\"\")\n",
        "  print(\" \")"
      ],
      "metadata": {
        "colab": {
          "base_uri": "https://localhost:8080/"
        },
        "id": "uZMipARnb31r",
        "outputId": "fdc09f10-13a8-4774-8ad5-ad8a7090e486"
      },
      "execution_count": 29,
      "outputs": [
        {
          "output_type": "stream",
          "name": "stdout",
          "text": [
            "12345 \n",
            "1234 \n",
            "123 \n",
            "12 \n",
            "1 \n"
          ]
        }
      ]
    },
    {
      "cell_type": "code",
      "source": [
        "\n",
        "for i in range(7,1,-1):\n",
        "  a =70\n",
        "  for j in range(i,1,-1):\n",
        "    print(chr(a),end=\"\")\n",
        "    a-=1\n",
        "  print(\" \")"
      ],
      "metadata": {
        "colab": {
          "base_uri": "https://localhost:8080/"
        },
        "id": "u_G50sZec8my",
        "outputId": "aa31758b-fce5-404b-8b05-eb1b7f712dc8"
      },
      "execution_count": 32,
      "outputs": [
        {
          "output_type": "stream",
          "name": "stdout",
          "text": [
            "FEDCBA \n",
            "FEDCB \n",
            "FEDC \n",
            "FED \n",
            "FE \n",
            "F \n"
          ]
        }
      ]
    },
    {
      "cell_type": "code",
      "source": [
        "for i in range(6,0,-1):\n",
        "\n",
        "  for space in range(6-i,0,-1):\n",
        "    print(\" \",end=\" \")\n",
        "  for j in range(1,i):\n",
        "    print(\"*\",end=\" \")\n",
        "  print(\" \")"
      ],
      "metadata": {
        "colab": {
          "base_uri": "https://localhost:8080/"
        },
        "id": "o_bRcTJod2GM",
        "outputId": "845d24ec-2d49-4d96-89d7-21358ef54635"
      },
      "execution_count": 38,
      "outputs": [
        {
          "output_type": "stream",
          "name": "stdout",
          "text": [
            "* * * * *  \n",
            "  * * * *  \n",
            "    * * *  \n",
            "      * *  \n",
            "        *  \n",
            "           \n"
          ]
        }
      ]
    }
  ]
}
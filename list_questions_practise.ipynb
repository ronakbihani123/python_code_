{
  "nbformat": 4,
  "nbformat_minor": 0,
  "metadata": {
    "colab": {
      "provenance": [],
      "authorship_tag": "ABX9TyNzgziRLvsvgBzIRSB4Mfrt",
      "include_colab_link": true
    },
    "kernelspec": {
      "name": "python3",
      "display_name": "Python 3"
    },
    "language_info": {
      "name": "python"
    }
  },
  "cells": [
    {
      "cell_type": "markdown",
      "metadata": {
        "id": "view-in-github",
        "colab_type": "text"
      },
      "source": [
        "<a href=\"https://colab.research.google.com/github/ronakbihani123/python_code_/blob/main/list_questions_practise.ipynb\" target=\"_parent\"><img src=\"https://colab.research.google.com/assets/colab-badge.svg\" alt=\"Open In Colab\"/></a>"
      ]
    },
    {
      "cell_type": "code",
      "execution_count": null,
      "metadata": {
        "colab": {
          "base_uri": "https://localhost:8080/"
        },
        "id": "8RiV6DJEHxf3",
        "outputId": "0b023266-792b-45cb-b28f-13ae7544e160"
      },
      "outputs": [
        {
          "output_type": "stream",
          "name": "stdout",
          "text": [
            "99\n"
          ]
        }
      ],
      "source": [
        "#q1\n",
        "mylist = [10,20,4,45,99]\n",
        "max = mylist[0]\n",
        "for i in range(0,len(mylist)):\n",
        "  if(mylist[i]>max):\n",
        "    max = mylist[i]\n",
        "print(max)"
      ]
    },
    {
      "cell_type": "code",
      "source": [
        "#q2\n",
        "l = [10,20,30,40]\n",
        "sum = 0\n",
        "for i in range(len(l)):\n",
        "  sum+=l[i]\n",
        "print(sum)"
      ],
      "metadata": {
        "colab": {
          "base_uri": "https://localhost:8080/"
        },
        "id": "C3ae96ePIqJn",
        "outputId": "b0c0b4f5-ae06-4d45-901d-d2fbac14725c"
      },
      "execution_count": null,
      "outputs": [
        {
          "output_type": "stream",
          "name": "stdout",
          "text": [
            "100\n"
          ]
        }
      ]
    },
    {
      "cell_type": "code",
      "source": [
        "#q3\n",
        "list1 = [1, 2, 3, 4, 5]\n",
        "rev = []\n",
        "for i in range(-1,-len(list1)-1,-1):\n",
        "  rev.append(list1[i])\n",
        "print(rev)"
      ],
      "metadata": {
        "colab": {
          "base_uri": "https://localhost:8080/"
        },
        "id": "1PzaGmFdI82O",
        "outputId": "008501c7-1df3-4c59-beb7-05b205cd2958"
      },
      "execution_count": null,
      "outputs": [
        {
          "output_type": "stream",
          "name": "stdout",
          "text": [
            "[5, 4, 3, 2, 1]\n"
          ]
        }
      ]
    },
    {
      "cell_type": "code",
      "source": [
        "#q4\n",
        "l = [1,5,2,3,4]\n",
        "\n",
        "for i in range(len(l)):\n",
        "\n",
        "  for j in range(i+1,len(l)):\n",
        "    if(l[i]>l[j]):\n",
        "      l[i],l[j] = l[j],l[i]\n",
        "print(l)\n",
        "\n"
      ],
      "metadata": {
        "colab": {
          "base_uri": "https://localhost:8080/"
        },
        "id": "aJDiJfbELM2G",
        "outputId": "f0b65e65-9f0f-4f7d-a011-485556693d86"
      },
      "execution_count": null,
      "outputs": [
        {
          "output_type": "stream",
          "name": "stdout",
          "text": [
            "[1, 2, 3, 4, 5]\n"
          ]
        }
      ]
    },
    {
      "cell_type": "code",
      "source": [
        "#q5\n",
        "list1 = [1, 2, 2, 3, 4, 4, 5]\n",
        "duplicate = []\n",
        "for item in list1:\n",
        "  if(item not in duplicate):\n",
        "    duplicate.append(item)\n",
        "print(duplicate)\n",
        "\n",
        "\n"
      ],
      "metadata": {
        "colab": {
          "base_uri": "https://localhost:8080/"
        },
        "id": "6keHlpp7Mrwq",
        "outputId": "dbde9afd-69e9-428e-c3c4-6bc9d462a44b"
      },
      "execution_count": 15,
      "outputs": [
        {
          "output_type": "stream",
          "name": "stdout",
          "text": [
            "[1, 2, 3, 4, 5]\n"
          ]
        }
      ]
    },
    {
      "cell_type": "code",
      "source": [
        "#q6\n",
        "numbers = [1, 2, 3, 4, 3, 5, 6]\n",
        "list1 = []\n",
        "target_sum = 6\n",
        "for i in range(len(numbers)):\n",
        "\n",
        "  for j in range(i+1,len(numbers)):\n",
        "    if(numbers[i]+numbers[j]==target_sum):\n",
        "\n",
        "     list1.append((numbers[i],numbers[j]))\n",
        "     list1.reverse()\n",
        "\n",
        "print(list1)"
      ],
      "metadata": {
        "colab": {
          "base_uri": "https://localhost:8080/"
        },
        "id": "1xaywxEjTfrW",
        "outputId": "a29194c7-f6ee-4be8-f2d7-85abab76f256"
      },
      "execution_count": 16,
      "outputs": [
        {
          "output_type": "stream",
          "name": "stdout",
          "text": [
            "[(1, 5), (2, 4), (3, 3)]\n"
          ]
        }
      ]
    },
    {
      "cell_type": "code",
      "source": [
        "#q7\n",
        "nested_list = [1, [2, 3], [4, [5, 6], 7], 8]\n",
        "newlist = []\n",
        "for i in nested_list:\n",
        "    if type(i) == list:\n",
        "        for j in i:\n",
        "            if type(j) == list:\n",
        "                for k in j:\n",
        "\n",
        "\n",
        "                    newlist.append(k)\n",
        "            else:\n",
        "\n",
        "\n",
        "                newlist.append(j)\n",
        "    else:\n",
        "\n",
        "        newlist.append(i)\n",
        "\n",
        "print(newlist)\n",
        "\n"
      ],
      "metadata": {
        "colab": {
          "base_uri": "https://localhost:8080/"
        },
        "id": "7YcyoDgQERhh",
        "outputId": "7ddfc216-0a8f-4c15-9a16-5d07e97d6b61"
      },
      "execution_count": null,
      "outputs": [
        {
          "output_type": "stream",
          "name": "stdout",
          "text": [
            "[1, 2, 3, 4, 5, 6, 7, 8]\n"
          ]
        }
      ]
    },
    {
      "cell_type": "code",
      "source": [
        "#q8\n",
        "numbers = [1, 2, 3, 4, 5]\n",
        "max = numbers[0]\n",
        "min = numbers[0]\n",
        "\n",
        "for i in range(len(numbers)):\n",
        "  if(numbers[i]>max):\n",
        "    max = numbers[i]\n",
        "  if(numbers[i]<min):\n",
        "    min = numbers[i]\n",
        "sum = 0\n",
        "for i in range(0,len(numbers)):\n",
        "  if(numbers[i]!=max and numbers[i]!=min):\n",
        "   sum = sum + numbers[i]\n",
        "\n",
        "print(sum)\n",
        "\n",
        "\n"
      ],
      "metadata": {
        "colab": {
          "base_uri": "https://localhost:8080/"
        },
        "id": "BEQJmc6zfGsZ",
        "outputId": "7c4b1c65-3b59-49b7-b3fd-0ec367838c2d"
      },
      "execution_count": 18,
      "outputs": [
        {
          "output_type": "stream",
          "name": "stdout",
          "text": [
            "9\n"
          ]
        }
      ]
    },
    {
      "cell_type": "code",
      "source": [
        "#q9\n",
        "numbers = [1, 2, 3, 2, 1]\n",
        "rev = []\n",
        "\n",
        "\n",
        "for j in range(-1,-len(numbers)-1,-1):\n",
        "    rev.append(numbers[j])\n",
        "if(rev==numbers):\n",
        "  print(\"true\")\n",
        "else:\n",
        "  print(\"false\")\n",
        "\n"
      ],
      "metadata": {
        "colab": {
          "base_uri": "https://localhost:8080/"
        },
        "id": "EABKngVu5_38",
        "outputId": "d385811c-8451-48e9-c040-1129f3f0090f"
      },
      "execution_count": null,
      "outputs": [
        {
          "output_type": "stream",
          "name": "stdout",
          "text": [
            "true\n"
          ]
        }
      ]
    },
    {
      "cell_type": "code",
      "source": [
        "#q 10\n",
        "list1 = [1, 2, 3, 4, 5]\n",
        "list2 = [3, 4, 5, 6, 7]\n",
        "common_elements = []\n",
        "\n",
        "for item in list1:\n",
        "  if item in list2:\n",
        "    common_elements.append(item)\n",
        "\n",
        "print(\"Common elements:\", common_elements)"
      ],
      "metadata": {
        "colab": {
          "base_uri": "https://localhost:8080/"
        },
        "id": "tOqczCnU8B26",
        "outputId": "8db87503-9cc1-42dc-8f10-217cb3e5b96d"
      },
      "execution_count": null,
      "outputs": [
        {
          "output_type": "stream",
          "name": "stdout",
          "text": [
            "Common elements: [3, 4, 5]\n"
          ]
        }
      ]
    },
    {
      "cell_type": "code",
      "source": [
        "#q11\n",
        "number = [1,2,4,5,6]\n",
        "for i in range(0,len(number)-1):\n",
        "  j = number[i]\n",
        "  x =  number[i+1] - number[i]\n",
        "\n",
        "  if(x!=1):\n",
        "\n",
        "   number[i]=  number[i]+1\n",
        "   print(number[i])\n",
        "\n"
      ],
      "metadata": {
        "id": "8w7TQ2N9QC6l",
        "colab": {
          "base_uri": "https://localhost:8080/"
        },
        "outputId": "5acd421c-a529-468e-f8cc-888c50c9c8e2"
      },
      "execution_count": 19,
      "outputs": [
        {
          "output_type": "stream",
          "name": "stdout",
          "text": [
            "3\n"
          ]
        }
      ]
    },
    {
      "cell_type": "code",
      "source": [
        "#q12\n",
        "numbers = [4, 5, 7, 1, 8, 4, 5, 2]\n",
        "newlist = []\n",
        "for i in range(0,len(numbers)):\n",
        "\n",
        "  for j in range(i+1,len(numbers)):\n",
        "    if(numbers[i]==numbers[j]):\n",
        "\n",
        "\n",
        "      newlist.append(numbers[i])\n",
        "      result = [i for i in numbers if i not in newlist]\n",
        "print(result[0])\n",
        "\n"
      ],
      "metadata": {
        "colab": {
          "base_uri": "https://localhost:8080/"
        },
        "id": "x8CdFgF_Xu9B",
        "outputId": "5b9a2e7b-4c49-4361-d5d3-d9590892c95f"
      },
      "execution_count": 22,
      "outputs": [
        {
          "output_type": "stream",
          "name": "stdout",
          "text": [
            "7\n"
          ]
        }
      ]
    },
    {
      "cell_type": "code",
      "source": [
        "#q13\n",
        "number = [0, 1, 0, 3, 12]\n",
        "j = 0\n",
        "for i in range(0,len(number)):\n",
        "\n",
        "  if(number[i]!=0):\n",
        "    temp = number[j]\n",
        "    number[j] = number[i]\n",
        "    number[i] = num\n",
        "    j+=1\n",
        "print(number)"
      ],
      "metadata": {
        "colab": {
          "base_uri": "https://localhost:8080/"
        },
        "id": "8z1XLQsGdMIp",
        "outputId": "f05cf626-e4c3-44f8-ad8b-afc9f6d931ad"
      },
      "execution_count": null,
      "outputs": [
        {
          "output_type": "stream",
          "name": "stdout",
          "text": [
            "[1, 3, 12, 0, 0]\n"
          ]
        }
      ]
    },
    {
      "cell_type": "code",
      "source": [
        "#q14\n",
        "number = [1, 3, 2, 6, 5, 8, 7]\n",
        "newlist = []\n",
        "for i in range(0,len(number)-1):\n",
        "  if(number[i]>number[i+1]):\n",
        "    newlist.append(number[i])\n",
        "\n",
        "print(newlist)\n",
        "\n"
      ],
      "metadata": {
        "colab": {
          "base_uri": "https://localhost:8080/"
        },
        "id": "sEh7Ln6VzVXS",
        "outputId": "12f90e64-d3fb-4ec0-8142-281aac353b88"
      },
      "execution_count": null,
      "outputs": [
        {
          "output_type": "stream",
          "name": "stdout",
          "text": [
            "[3, 6, 8]\n"
          ]
        }
      ]
    },
    {
      "cell_type": "code",
      "source": [
        "#15\n",
        "number = [-1, 0, 1, 2, -1, -4]\n",
        "newlist = []\n",
        "target = 0\n",
        "for i in range(0,len(numbers)):\n",
        "  for j in range(i+1,len(numbers)):\n",
        "    for k in range(j+1,len(numbers)):\n",
        "\n",
        "      if(number[i]+number[j]+number[k]==target):\n",
        "        x =[ number[i],number[j],number[k]]\n",
        "        x = sorted([numbers[i], numbers[j], numbers[k]])\n",
        "        if(x not in newlist):\n",
        "          newlist.append(x)\n",
        "print(newlist)\n"
      ],
      "metadata": {
        "colab": {
          "base_uri": "https://localhost:8080/"
        },
        "id": "1YGWUPoR3D4D",
        "outputId": "1f798c9d-1ebd-44dc-bbf5-c1b69a88d019"
      },
      "execution_count": null,
      "outputs": [
        {
          "output_type": "stream",
          "name": "stdout",
          "text": [
            "[[-1, 0, 1], [-1, -1, 2]]\n"
          ]
        }
      ]
    }
  ]
}
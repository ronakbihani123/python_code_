{
  "nbformat": 4,
  "nbformat_minor": 0,
  "metadata": {
    "colab": {
      "provenance": [],
      "authorship_tag": "ABX9TyO813dnF4J1C4nx+BAuj349",
      "include_colab_link": true
    },
    "kernelspec": {
      "name": "python3",
      "display_name": "Python 3"
    },
    "language_info": {
      "name": "python"
    }
  },
  "cells": [
    {
      "cell_type": "markdown",
      "metadata": {
        "id": "view-in-github",
        "colab_type": "text"
      },
      "source": [
        "<a href=\"https://colab.research.google.com/github/ronakbihani123/python_code_/blob/main/advanced_dictionary_questions.ipynb\" target=\"_parent\"><img src=\"https://colab.research.google.com/assets/colab-badge.svg\" alt=\"Open In Colab\"/></a>"
      ]
    },
    {
      "cell_type": "code",
      "execution_count": null,
      "metadata": {
        "colab": {
          "base_uri": "https://localhost:8080/"
        },
        "id": "WnlLH1OlQbPZ",
        "outputId": "64c938ef-35eb-49f1-b80a-e169f6a033af"
      },
      "outputs": [
        {
          "output_type": "execute_result",
          "data": {
            "text/plain": [
              "dict_values(['Ronak', 22, 'Python'])"
            ]
          },
          "metadata": {},
          "execution_count": 2
        }
      ],
      "source": [
        "my_dict = {\n",
        "    'name': 'Ronak',\n",
        "    'age': 22,\n",
        "    'course': 'Python'\n",
        "}\n",
        "my_dict.values()"
      ]
    },
    {
      "cell_type": "code",
      "source": [
        "dict1 = {'a': 1, 'b': 2}\n",
        "dict2 = {'c': 3, 'd': 4}\n",
        "\n",
        "dict1.update(dict2)\n",
        "print(dict1)"
      ],
      "metadata": {
        "colab": {
          "base_uri": "https://localhost:8080/"
        },
        "id": "t0BS-_TkTch9",
        "outputId": "db7b49f7-5182-4640-da3a-a55fb9f9f66c"
      },
      "execution_count": null,
      "outputs": [
        {
          "output_type": "stream",
          "name": "stdout",
          "text": [
            "{'a': 1, 'b': 2, 'c': 3, 'd': 4}\n"
          ]
        }
      ]
    },
    {
      "cell_type": "code",
      "source": [
        "s = \"apple\"\n",
        "mydict = {}\n",
        "for i in s:\n",
        "  if i in mydict:\n",
        "    mydict[i] += 1\n",
        "  else:\n",
        "    mydict[i] = 1\n",
        "print(mydict)"
      ],
      "metadata": {
        "colab": {
          "base_uri": "https://localhost:8080/"
        },
        "id": "FSfXuv4QULq4",
        "outputId": "c2d815a6-72c7-41c5-ed55-4cab8ab98f0c"
      },
      "execution_count": null,
      "outputs": [
        {
          "output_type": "stream",
          "name": "stdout",
          "text": [
            "{'a': 1, 'p': 2, 'l': 1, 'e': 1}\n"
          ]
        }
      ]
    },
    {
      "cell_type": "code",
      "source": [
        "a = [1,2,3]\n",
        "mydict = {}\n",
        "for i in a:\n",
        "  if( i not in mydict):\n",
        "    mydict[i] = i*i\n",
        "print(mydict)"
      ],
      "metadata": {
        "colab": {
          "base_uri": "https://localhost:8080/"
        },
        "id": "mTc7UIb-UzH1",
        "outputId": "6147932e-31d7-426a-f109-b47e1c558f83"
      },
      "execution_count": null,
      "outputs": [
        {
          "output_type": "stream",
          "name": "stdout",
          "text": [
            "{1: 1, 2: 4, 3: 9}\n"
          ]
        }
      ]
    },
    {
      "cell_type": "code",
      "source": [
        "mydict = {'a': 1, 'b': 2}\n",
        "b = {}\n",
        "for i in mydict.keys():\n",
        "\n",
        "   temp = mydict[i]\n",
        "   b[temp] = i\n",
        "print(b)\n",
        "\n",
        "\n"
      ],
      "metadata": {
        "colab": {
          "base_uri": "https://localhost:8080/"
        },
        "id": "O1iH7_f7WLNj",
        "outputId": "a7b8844c-3128-40b7-fb75-669230961f3d"
      },
      "execution_count": null,
      "outputs": [
        {
          "output_type": "stream",
          "name": "stdout",
          "text": [
            "a\n",
            "b\n",
            "{1: 'a', 2: 'b'}\n"
          ]
        }
      ]
    },
    {
      "cell_type": "code",
      "source": [
        "def func():\n",
        "\n",
        "  s = [\"I\" ,\"Love\", \"india\", \"I\", \"Love\" ,\"Coding\"]\n",
        "  mydict = {}\n",
        "\n",
        "  for i in s:\n",
        "    if(i in mydict):\n",
        "      mydict[i] += 1\n",
        "    else:\n",
        "      mydict[i] = 1\n",
        "  print(mydict)\n",
        "func()"
      ],
      "metadata": {
        "colab": {
          "base_uri": "https://localhost:8080/"
        },
        "id": "WI4o_D3GYTMk",
        "outputId": "c982a52c-c188-470a-be52-42bf5e41d1ec"
      },
      "execution_count": null,
      "outputs": [
        {
          "output_type": "stream",
          "name": "stdout",
          "text": [
            "{'I': 2, 'Love': 2, 'india': 1, 'Coding': 1}\n"
          ]
        }
      ]
    },
    {
      "cell_type": "code",
      "source": [
        "keys = ['name', 'age', 'city']\n",
        "values = ['Ronak', 22, 'Mumbai']\n",
        "mydict = {}\n",
        "for i in range(len(keys)):\n",
        "  if keys[i] not in mydict:\n",
        "    mydict[keys[i]] = values[i]\n",
        "\n",
        "\n",
        "print(mydict)\n",
        "\n",
        "\n"
      ],
      "metadata": {
        "colab": {
          "base_uri": "https://localhost:8080/"
        },
        "id": "JdOx4uEgaZKC",
        "outputId": "165fca71-d2c7-440f-d2e6-28023911108c"
      },
      "execution_count": null,
      "outputs": [
        {
          "output_type": "stream",
          "name": "stdout",
          "text": [
            "{'name': 'Ronak', 'age': 22, 'city': 'Mumbai'}\n"
          ]
        }
      ]
    },
    {
      "cell_type": "code",
      "source": [
        "mydict = {\"a\" : 45 , \"b\" : 40 , \"c\" : 98}\n",
        "max = mydict[\"a\"]\n",
        "for i in mydict:\n",
        "  if(mydict[i]>max):\n",
        "    max = i\n",
        "print(max)\n"
      ],
      "metadata": {
        "colab": {
          "base_uri": "https://localhost:8080/"
        },
        "id": "CaxNjtN5gMC9",
        "outputId": "712a2b02-aa73-4c0c-affe-22f6e4f781b3"
      },
      "execution_count": null,
      "outputs": [
        {
          "output_type": "stream",
          "name": "stdout",
          "text": [
            "c\n"
          ]
        }
      ]
    },
    {
      "cell_type": "code",
      "source": [
        "mydict = {\"a\" : 45,\"b\" :98, \"c\":45 , \"d\":22}\n",
        "unique_values = {}\n",
        "\n",
        "\n",
        "for key, value in mydict.items():\n",
        "  if value not in unique_values.values():\n",
        "      unique_values[key] = value\n",
        "\n",
        "print(unique_values)\n",
        "\n",
        "\n"
      ],
      "metadata": {
        "colab": {
          "base_uri": "https://localhost:8080/"
        },
        "id": "R6jDFBStkENc",
        "outputId": "86a8d37c-48cc-45cd-bb13-b8efa0204306"
      },
      "execution_count": null,
      "outputs": [
        {
          "output_type": "stream",
          "name": "stdout",
          "text": [
            "{'a': 45, 'b': 98, 'd': 22}\n"
          ]
        }
      ]
    },
    {
      "cell_type": "code",
      "source": [
        "person = {\n",
        "    \"name\": \"Ronak\",\n",
        "    \"address\": {\n",
        "        \"city\": \"Mumbai\",\n",
        "        \"pincode\": 400001\n",
        "    }\n",
        "}\n",
        "for key , value in person.items():\n",
        "  if(type(value)==dict):\n",
        "    for sub_key , sub_value in value.items():\n",
        "      print(f\"{key} {sub_key} = {sub_value}\")\n",
        "  else:\n",
        "      print(f\"{key} = {value}\")"
      ],
      "metadata": {
        "colab": {
          "base_uri": "https://localhost:8080/"
        },
        "id": "SCkrRFS3ndE5",
        "outputId": "da1eb080-1d1c-48af-da35-1bd7f5d396a2"
      },
      "execution_count": null,
      "outputs": [
        {
          "output_type": "stream",
          "name": "stdout",
          "text": [
            "name = Ronak\n",
            "address city = Mumbai\n",
            "address pincode = 400001\n"
          ]
        }
      ]
    },
    {
      "cell_type": "code",
      "source": [
        "data = [{'a': 1}, {'b': 2}, {'a': 3}, {'b': 4}]\n",
        "# → Output: {'a': [1,3], 'b': [2,4]}\n",
        "mydict = {}\n",
        "for i in data:\n",
        "\n",
        "  for j in i:\n",
        "\n",
        "    if( j in mydict):\n",
        "\n",
        "      mydict[j].append(i[j])\n",
        "    else:\n",
        "      mydict[j] = [i[j]]\n",
        "print(mydict)"
      ],
      "metadata": {
        "colab": {
          "base_uri": "https://localhost:8080/"
        },
        "id": "WpA7euxDadjp",
        "outputId": "34e6e921-8639-4349-f929-91c9fd9b2994"
      },
      "execution_count": 26,
      "outputs": [
        {
          "output_type": "stream",
          "name": "stdout",
          "text": [
            "{'a': [1, 3], 'b': [2, 4]}\n"
          ]
        }
      ]
    }
  ]
}
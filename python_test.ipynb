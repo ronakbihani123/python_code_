{
  "nbformat": 4,
  "nbformat_minor": 0,
  "metadata": {
    "colab": {
      "provenance": [],
      "authorship_tag": "ABX9TyODY/iVh65cHUGSpeqroMs+",
      "include_colab_link": true
    },
    "kernelspec": {
      "name": "python3",
      "display_name": "Python 3"
    },
    "language_info": {
      "name": "python"
    }
  },
  "cells": [
    {
      "cell_type": "markdown",
      "metadata": {
        "id": "view-in-github",
        "colab_type": "text"
      },
      "source": [
        "<a href=\"https://colab.research.google.com/github/ronakbihani123/python_code_/blob/main/python_test.ipynb\" target=\"_parent\"><img src=\"https://colab.research.google.com/assets/colab-badge.svg\" alt=\"Open In Colab\"/></a>"
      ]
    },
    {
      "cell_type": "code",
      "execution_count": null,
      "metadata": {
        "colab": {
          "base_uri": "https://localhost:8080/"
        },
        "id": "CLe2y0d2AlIF",
        "outputId": "46ee5b5e-c5d1-4d17-8c69-9498a4ade899"
      },
      "outputs": [
        {
          "output_type": "stream",
          "name": "stdout",
          "text": [
            "enter a number43332\n",
            "15\n"
          ]
        }
      ],
      "source": [
        "#q1\n",
        "n = int(input(\"enter a number\"))\n",
        "sum = 0\n",
        "while(n>0):\n",
        "  sum+=n%10\n",
        "  n= n//10\n",
        "print(sum)"
      ]
    },
    {
      "cell_type": "code",
      "source": [
        "#q2\n",
        "a = \"rishtedar\"\n",
        "count = 0\n",
        "for digit in (a):\n",
        "  if(digit==\"a\" or digit==\"e\" or digit==\"i\" or digit==\"o\" or digit==\"u\"):\n",
        "    count+=1\n",
        "print(count)\n",
        "\n"
      ],
      "metadata": {
        "colab": {
          "base_uri": "https://localhost:8080/"
        },
        "id": "0P9ll9dzBT6N",
        "outputId": "9b216fbc-5eed-4dd4-bbcb-aef287b3e9ce"
      },
      "execution_count": null,
      "outputs": [
        {
          "output_type": "stream",
          "name": "stdout",
          "text": [
            "3\n"
          ]
        }
      ]
    },
    {
      "cell_type": "code",
      "source": [
        "a = \"khokho\"\n",
        "b = len(a)//2\n",
        "if(len(a)%2==0):\n",
        "  c = a[:b]\n",
        "  d = a[b:]\n",
        "else:\n",
        "  c = a[:b]\n",
        "  d = a[b+1:]\n",
        "  print(c)\n",
        "  print(d)\n",
        "if c==d:\n",
        "  print(\"string is symmetrical\")\n",
        "else:\n",
        "  print(\"string is not symmetrical\")"
      ],
      "metadata": {
        "colab": {
          "base_uri": "https://localhost:8080/"
        },
        "id": "SQEBzsZ6B1fR",
        "outputId": "140d6fab-913b-4a8d-bbc2-838121f1d765"
      },
      "execution_count": 8,
      "outputs": [
        {
          "output_type": "stream",
          "name": "stdout",
          "text": [
            "string is symmetrical\n"
          ]
        }
      ]
    },
    {
      "cell_type": "code",
      "source": [
        "n = 1634\n",
        "count=0\n",
        "sum = 0\n",
        "temp = n\n",
        "while temp>0:\n",
        "  count+=1\n",
        "  temp = temp //10\n",
        "temp = n\n",
        "while(temp >0):\n",
        "  rem = temp %10\n",
        "  sum+=rem**count\n",
        "  temp = temp//10\n",
        "if(sum==n):\n",
        "  print(\"armstrong number\")\n",
        "else:\n",
        "  print(\"not armstrong number\")\n"
      ],
      "metadata": {
        "colab": {
          "base_uri": "https://localhost:8080/"
        },
        "id": "tcRj7wdAHZnX",
        "outputId": "7686eb34-f1b6-43ad-d085-de33e3c082cb"
      },
      "execution_count": null,
      "outputs": [
        {
          "output_type": "stream",
          "name": "stdout",
          "text": [
            "armstrong number\n"
          ]
        }
      ]
    },
    {
      "cell_type": "code",
      "source": [
        "for i in range(1,5):\n",
        "\n",
        "  for j in range(1,i+1):\n",
        "    print(\"#\",end=\"\")\n",
        "  print(\" \")\n",
        "for i in range(1,4):\n",
        "\n",
        "  for j in range(1,4-i+1):\n",
        "    print(\"#\",end=\"\")\n",
        "  print(\" \")"
      ],
      "metadata": {
        "colab": {
          "base_uri": "https://localhost:8080/"
        },
        "id": "aGjCSyRLIV9b",
        "outputId": "3d62d2fd-b855-4ce4-90f1-0fa333418241"
      },
      "execution_count": null,
      "outputs": [
        {
          "output_type": "stream",
          "name": "stdout",
          "text": [
            "# \n",
            "## \n",
            "### \n",
            "#### \n",
            "### \n",
            "## \n",
            "# \n"
          ]
        }
      ]
    }
  ]
}